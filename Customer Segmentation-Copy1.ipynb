{
 "cells": [
  {
   "cell_type": "code",
   "execution_count": 1,
   "metadata": {
    "ExecuteTime": {
     "end_time": "2021-04-12T15:25:08.286133Z",
     "start_time": "2021-04-12T15:25:07.072700Z"
    }
   },
   "outputs": [],
   "source": [
    "import numpy as np\n",
    "import pandas as pd\n",
    "import datetime as dt\n",
    "from scipy import stats\n",
    "import seaborn as sns\n",
    "import matplotlib\n",
    "import matplotlib.pyplot as plt\n",
    "\n",
    "import warnings\n",
    "warnings.filterwarnings('ignore')\n",
    "%matplotlib inline\n",
    "\n",
    "font = {'family' : 'sans-serif',\n",
    "        'size'   : 16}\n",
    "\n",
    "matplotlib.rc('font', **font)\n",
    "\n",
    "pd.set_option('display.max_columns', None)"
   ]
  },
  {
   "cell_type": "code",
   "execution_count": 3,
   "metadata": {
    "ExecuteTime": {
     "end_time": "2021-04-12T15:25:22.918942Z",
     "start_time": "2021-04-12T15:25:22.858358Z"
    }
   },
   "outputs": [
    {
     "data": {
      "text/html": [
       "<div>\n",
       "<style scoped>\n",
       "    .dataframe tbody tr th:only-of-type {\n",
       "        vertical-align: middle;\n",
       "    }\n",
       "\n",
       "    .dataframe tbody tr th {\n",
       "        vertical-align: top;\n",
       "    }\n",
       "\n",
       "    .dataframe thead th {\n",
       "        text-align: right;\n",
       "    }\n",
       "</style>\n",
       "<table border=\"1\" class=\"dataframe\">\n",
       "  <thead>\n",
       "    <tr style=\"text-align: right;\">\n",
       "      <th></th>\n",
       "      <th>CustID</th>\n",
       "      <th>Gender</th>\n",
       "      <th>Age</th>\n",
       "      <th>AnnualIncome</th>\n",
       "      <th>CustScore (1-100)</th>\n",
       "      <th>Hometown</th>\n",
       "      <th>FavoriteTime</th>\n",
       "    </tr>\n",
       "  </thead>\n",
       "  <tbody>\n",
       "    <tr>\n",
       "      <th>0</th>\n",
       "      <td>1</td>\n",
       "      <td>Female</td>\n",
       "      <td>20</td>\n",
       "      <td>20000</td>\n",
       "      <td>1</td>\n",
       "      <td>Jakarta</td>\n",
       "      <td>Weekend</td>\n",
       "    </tr>\n",
       "    <tr>\n",
       "      <th>1</th>\n",
       "      <td>2</td>\n",
       "      <td>Male</td>\n",
       "      <td>21</td>\n",
       "      <td>34000</td>\n",
       "      <td>81</td>\n",
       "      <td>Jakarta</td>\n",
       "      <td>Weekend</td>\n",
       "    </tr>\n",
       "    <tr>\n",
       "      <th>2</th>\n",
       "      <td>3</td>\n",
       "      <td>Female</td>\n",
       "      <td>18</td>\n",
       "      <td>12350</td>\n",
       "      <td>1</td>\n",
       "      <td>Jakarta</td>\n",
       "      <td>Weekend</td>\n",
       "    </tr>\n",
       "    <tr>\n",
       "      <th>3</th>\n",
       "      <td>4</td>\n",
       "      <td>Male</td>\n",
       "      <td>45</td>\n",
       "      <td>12000</td>\n",
       "      <td>1</td>\n",
       "      <td>Bandung</td>\n",
       "      <td>Weekday</td>\n",
       "    </tr>\n",
       "    <tr>\n",
       "      <th>4</th>\n",
       "      <td>5</td>\n",
       "      <td>Male</td>\n",
       "      <td>31</td>\n",
       "      <td>18000</td>\n",
       "      <td>10</td>\n",
       "      <td>Bandung</td>\n",
       "      <td>Weekend</td>\n",
       "    </tr>\n",
       "  </tbody>\n",
       "</table>\n",
       "</div>"
      ],
      "text/plain": [
       "   CustID  Gender  Age  AnnualIncome  CustScore (1-100) Hometown FavoriteTime\n",
       "0       1  Female   20         20000                  1  Jakarta      Weekend\n",
       "1       2    Male   21         34000                 81  Jakarta      Weekend\n",
       "2       3  Female   18         12350                  1  Jakarta      Weekend\n",
       "3       4    Male   45         12000                  1  Bandung      Weekday\n",
       "4       5    Male   31         18000                 10  Bandung      Weekend"
      ]
     },
     "execution_count": 3,
     "metadata": {},
     "output_type": "execute_result"
    }
   ],
   "source": [
    "df = pd.read_csv('customer_segmentation_data.csv')\n",
    "df.head()"
   ]
  },
  {
   "cell_type": "markdown",
   "metadata": {},
   "source": [
    "First, I want to simplify our column names so we can access easily later."
   ]
  },
  {
   "cell_type": "code",
   "execution_count": 4,
   "metadata": {
    "ExecuteTime": {
     "end_time": "2021-04-12T15:25:24.516154Z",
     "start_time": "2021-04-12T15:25:24.509152Z"
    }
   },
   "outputs": [],
   "source": [
    "df.columns = ['cust_id','gender','age','annual_income','cust_score','hometown','favorite_time']"
   ]
  },
  {
   "cell_type": "code",
   "execution_count": 5,
   "metadata": {
    "ExecuteTime": {
     "end_time": "2021-04-12T15:25:25.010205Z",
     "start_time": "2021-04-12T15:25:24.981205Z"
    }
   },
   "outputs": [
    {
     "name": "stdout",
     "output_type": "stream",
     "text": [
      "<class 'pandas.core.frame.DataFrame'>\n",
      "Int64Index: 180 entries, 0 to 199\n",
      "Data columns (total 7 columns):\n",
      " #   Column         Non-Null Count  Dtype \n",
      "---  ------         --------------  ----- \n",
      " 0   cust_id        180 non-null    int64 \n",
      " 1   gender         180 non-null    object\n",
      " 2   age            180 non-null    int64 \n",
      " 3   annual_income  180 non-null    int64 \n",
      " 4   cust_score     180 non-null    int64 \n",
      " 5   hometown       180 non-null    object\n",
      " 6   favorite_time  180 non-null    object\n",
      "dtypes: int64(4), object(3)\n",
      "memory usage: 11.2+ KB\n"
     ]
    }
   ],
   "source": [
    "df = df[(df['hometown']=='Jakarta')|(df['hometown']=='Bandung')]\n",
    "df.info()"
   ]
  },
  {
   "cell_type": "markdown",
   "metadata": {},
   "source": [
    "Fortunately, there is no any NULL value in our data set."
   ]
  },
  {
   "cell_type": "markdown",
   "metadata": {},
   "source": [
    "As we can see that we have 3 numerical variables, 3 categorical variables, and 1 unique values column."
   ]
  },
  {
   "cell_type": "code",
   "execution_count": 6,
   "metadata": {
    "ExecuteTime": {
     "end_time": "2021-04-12T15:25:31.648891Z",
     "start_time": "2021-04-12T15:25:31.615940Z"
    }
   },
   "outputs": [
    {
     "data": {
      "text/plain": [
       "cust_id          180\n",
       "gender             2\n",
       "age               50\n",
       "annual_income     90\n",
       "cust_score        79\n",
       "hometown           2\n",
       "favorite_time      2\n",
       "dtype: int64"
      ]
     },
     "execution_count": 6,
     "metadata": {},
     "output_type": "execute_result"
    }
   ],
   "source": [
    "df.nunique()"
   ]
  },
  {
   "cell_type": "code",
   "execution_count": 7,
   "metadata": {
    "ExecuteTime": {
     "end_time": "2021-04-12T15:25:33.381374Z",
     "start_time": "2021-04-12T15:25:33.324378Z"
    }
   },
   "outputs": [
    {
     "data": {
      "text/html": [
       "<div>\n",
       "<style scoped>\n",
       "    .dataframe tbody tr th:only-of-type {\n",
       "        vertical-align: middle;\n",
       "    }\n",
       "\n",
       "    .dataframe tbody tr th {\n",
       "        vertical-align: top;\n",
       "    }\n",
       "\n",
       "    .dataframe thead th {\n",
       "        text-align: right;\n",
       "    }\n",
       "</style>\n",
       "<table border=\"1\" class=\"dataframe\">\n",
       "  <thead>\n",
       "    <tr style=\"text-align: right;\">\n",
       "      <th></th>\n",
       "      <th>count</th>\n",
       "      <th>mean</th>\n",
       "      <th>std</th>\n",
       "      <th>min</th>\n",
       "      <th>25%</th>\n",
       "      <th>50%</th>\n",
       "      <th>75%</th>\n",
       "      <th>max</th>\n",
       "    </tr>\n",
       "  </thead>\n",
       "  <tbody>\n",
       "    <tr>\n",
       "      <th>cust_id</th>\n",
       "      <td>180.0</td>\n",
       "      <td>106.811111</td>\n",
       "      <td>56.829038</td>\n",
       "      <td>1.0</td>\n",
       "      <td>55.75</td>\n",
       "      <td>110.5</td>\n",
       "      <td>155.25</td>\n",
       "      <td>200.0</td>\n",
       "    </tr>\n",
       "    <tr>\n",
       "      <th>age</th>\n",
       "      <td>180.0</td>\n",
       "      <td>38.705556</td>\n",
       "      <td>13.587991</td>\n",
       "      <td>18.0</td>\n",
       "      <td>29.00</td>\n",
       "      <td>36.0</td>\n",
       "      <td>49.00</td>\n",
       "      <td>75.0</td>\n",
       "    </tr>\n",
       "    <tr>\n",
       "      <th>annual_income</th>\n",
       "      <td>180.0</td>\n",
       "      <td>45891.500000</td>\n",
       "      <td>20521.156013</td>\n",
       "      <td>10000.0</td>\n",
       "      <td>29375.00</td>\n",
       "      <td>45000.0</td>\n",
       "      <td>60250.00</td>\n",
       "      <td>90000.0</td>\n",
       "    </tr>\n",
       "    <tr>\n",
       "      <th>cust_score</th>\n",
       "      <td>180.0</td>\n",
       "      <td>46.450000</td>\n",
       "      <td>29.044230</td>\n",
       "      <td>1.0</td>\n",
       "      <td>22.00</td>\n",
       "      <td>45.5</td>\n",
       "      <td>69.00</td>\n",
       "      <td>100.0</td>\n",
       "    </tr>\n",
       "  </tbody>\n",
       "</table>\n",
       "</div>"
      ],
      "text/plain": [
       "               count          mean           std      min       25%      50%  \\\n",
       "cust_id        180.0    106.811111     56.829038      1.0     55.75    110.5   \n",
       "age            180.0     38.705556     13.587991     18.0     29.00     36.0   \n",
       "annual_income  180.0  45891.500000  20521.156013  10000.0  29375.00  45000.0   \n",
       "cust_score     180.0     46.450000     29.044230      1.0     22.00     45.5   \n",
       "\n",
       "                    75%      max  \n",
       "cust_id          155.25    200.0  \n",
       "age               49.00     75.0  \n",
       "annual_income  60250.00  90000.0  \n",
       "cust_score        69.00    100.0  "
      ]
     },
     "execution_count": 7,
     "metadata": {},
     "output_type": "execute_result"
    }
   ],
   "source": [
    "df.describe().transpose()"
   ]
  },
  {
   "cell_type": "markdown",
   "metadata": {},
   "source": [
    "# Exploring The Data"
   ]
  },
  {
   "cell_type": "code",
   "execution_count": 8,
   "metadata": {
    "ExecuteTime": {
     "end_time": "2021-04-12T15:25:37.663727Z",
     "start_time": "2021-04-12T15:25:37.363203Z"
    }
   },
   "outputs": [
    {
     "data": {
      "image/png": "[encoded data removed]",
      "text/plain": [
       "<Figure size 864x576 with 1 Axes>"
      ]
     },
     "metadata": {
      "needs_background": "light"
     },
     "output_type": "display_data"
    }
   ],
   "source": [
    "fig, ax = plt.subplots(figsize=(12,8))\n",
    "\n",
    "rects1 = ax.bar([0], list(df[df['gender']=='Female'].count()), label='Female', color ='#f99af6')\n",
    "rects2 = ax.bar([1], list(df[df['gender']=='Male'].count()), label='Male', color = '#286fb0')\n",
    "\n",
    "ax.set_title('Distribution of Customers By Gender')\n",
    "ax.set_ylabel('Num of Customers')\n",
    "ax.set_xlabel('Gender')\n",
    "ax.set_xticks([0,1])\n",
    "ax.set_xticklabels(['Female','Male'])\n",
    "ax.legend()\n",
    "\n",
    "ax.bar_label(rects1, padding=3)\n",
    "ax.bar_label(rects2, padding=3)\n",
    "\n",
    "fig.tight_layout()\n",
    "\n",
    "plt.show()\n",
    "\n"
   ]
  },
  {
   "cell_type": "markdown",
   "metadata": {},
   "source": [
    "There are slightly more female than male in this data set. Maybe itu could be a significant element in our customer segmentation later."
   ]
  },
  {
   "cell_type": "markdown",
   "metadata": {},
   "source": [
    "What about age?"
   ]
  },
  {
   "cell_type": "code",
   "execution_count": 9,
   "metadata": {
    "ExecuteTime": {
     "end_time": "2021-04-12T15:25:56.419532Z",
     "start_time": "2021-04-12T15:25:56.136508Z"
    }
   },
   "outputs": [
    {
     "data": {
      "image/png": "[encoded data removed]",
      "text/plain": [
       "<Figure size 864x576 with 1 Axes>"
      ]
     },
     "metadata": {
      "needs_background": "light"
     },
     "output_type": "display_data"
    }
   ],
   "source": [
    "fig, ax = plt.subplots(figsize=(12,8))\n",
    "\n",
    "n, bar_labelins, patches = ax.hist(df['age'])\n",
    "\n",
    "ax.set_title('Distribution of Age')\n",
    "ax.set_ylabel('Frequency')\n",
    "ax.set_xlabel('Age')\n",
    "\n",
    "for rect in patches:\n",
    "    y_value = rect.get_height()\n",
    "    x_value = rect.get_x() + rect.get_width() / 2\n",
    "    \n",
    "    space  = 5\n",
    "    va = 'bottom'\n",
    "    label = str(np.round(y_value, 3))\n",
    "    \n",
    "    plt.annotate(\n",
    "        label ,\n",
    "        (x_value, y_value) ,\n",
    "        xytext = (0, space) ,\n",
    "        textcoords = 'offset points' ,\n",
    "        ha = 'center' ,\n",
    "        va=va\n",
    "    )\n",
    "\n",
    "fig.tight_layout()\n",
    "\n",
    "plt.show()\n"
   ]
  },
  {
   "cell_type": "markdown",
   "metadata": {},
   "source": [
    "The ages are mostly between 20 and 40. There ar less older customers, so the distribution is rigth-skewed because it has longer right tail. It shows us what our type of demographic looks like."
   ]
  },
  {
   "cell_type": "code",
   "execution_count": 10,
   "metadata": {
    "ExecuteTime": {
     "end_time": "2021-04-12T15:26:09.241783Z",
     "start_time": "2021-04-12T15:26:08.936634Z"
    },
    "scrolled": false
   },
   "outputs": [
    {
     "data": {
      "image/png": "[encoded data removed]",
      "text/plain": [
       "<Figure size 864x576 with 1 Axes>"
      ]
     },
     "metadata": {
      "needs_background": "light"
     },
     "output_type": "display_data"
    }
   ],
   "source": [
    "fig, ax = plt.subplots(figsize=(12,8))\n",
    "\n",
    "nf, bar_labelins_f, patches_f = ax.hist(df[df['gender']=='Female']['age'], color = '#f99af6', label = 'Female', alpha = .5)\n",
    "nm, bar_labelins_m, patches_m = ax.hist(df[df['gender']=='Male']['age'], color = '#286fb0', label = 'Male', alpha = .5)\n",
    "\n",
    "ax.set_title('Distribution of Age by Gender')\n",
    "ax.set_ylabel('Frequency')\n",
    "ax.set_xlabel('Age')\n",
    "\n",
    "for patches in [patches_f, patches_m]:\n",
    "    for rect in patches:\n",
    "        y_value = rect.get_height()\n",
    "        x_value = rect.get_x() + rect.get_width() / 2\n",
    "\n",
    "        space  = 5\n",
    "        va = 'bottom'\n",
    "        label = str(np.round(y_value, 3))\n",
    "\n",
    "        plt.annotate(\n",
    "            label ,\n",
    "            (x_value, y_value) ,\n",
    "            xytext = (0, space) ,\n",
    "            textcoords = 'offset points' ,\n",
    "            ha = 'center' ,\n",
    "            va=va\n",
    "        )\n",
    "\n",
    "fig.tight_layout()\n",
    "\n",
    "plt.show()"
   ]
  },
  {
   "cell_type": "markdown",
   "metadata": {},
   "source": [
    "The distribution of age between Female and Male Customers are slightly same. As we can see the spike around the age 29 - 35 in both Female and Male Distributions. But there is a significant amount of senior Male in the 59 - 75 year old bucket."
   ]
  },
  {
   "cell_type": "markdown",
   "metadata": {},
   "source": [
    "What about income?"
   ]
  },
  {
   "cell_type": "code",
   "execution_count": 11,
   "metadata": {
    "ExecuteTime": {
     "end_time": "2021-04-12T15:26:41.961631Z",
     "start_time": "2021-04-12T15:26:41.909682Z"
    }
   },
   "outputs": [
    {
     "data": {
      "text/plain": [
       "count      180.000000\n",
       "mean     45891.500000\n",
       "std      20521.156013\n",
       "min      10000.000000\n",
       "25%      29375.000000\n",
       "50%      45000.000000\n",
       "75%      60250.000000\n",
       "max      90000.000000\n",
       "Name: annual_income, dtype: float64"
      ]
     },
     "execution_count": 11,
     "metadata": {},
     "output_type": "execute_result"
    }
   ],
   "source": [
    "df.describe().transpose().loc['annual_income']"
   ]
  },
  {
   "cell_type": "markdown",
   "metadata": {},
   "source": [
    "As we can see the range of annual income are between 10.000 and 90.000"
   ]
  },
  {
   "cell_type": "code",
   "execution_count": 12,
   "metadata": {
    "ExecuteTime": {
     "end_time": "2021-04-12T15:26:46.046753Z",
     "start_time": "2021-04-12T15:26:45.780761Z"
    }
   },
   "outputs": [
    {
     "data": {
      "image/png": "[encoded data removed]",
      "text/plain": [
       "<Figure size 864x576 with 1 Axes>"
      ]
     },
     "metadata": {
      "needs_background": "light"
     },
     "output_type": "display_data"
    }
   ],
   "source": [
    "fig, ax = plt.subplots(figsize=(12,8))\n",
    "\n",
    "n, bar_labelins, patches = ax.hist(df['annual_income'], )\n",
    "\n",
    "ax.set_title('Distribution of Annual Income')\n",
    "ax.set_ylabel('Frequency')\n",
    "ax.set_xlabel('Annual Income')\n",
    "\n",
    "for rect in patches:\n",
    "    y_value = rect.get_height()\n",
    "    x_value = rect.get_x() + rect.get_width() / 2\n",
    "    \n",
    "    space  = 5\n",
    "    va = 'bottom'\n",
    "    label = str(np.round(y_value, 3))\n",
    "    \n",
    "    plt.annotate(\n",
    "        label ,\n",
    "        (x_value, y_value) ,\n",
    "        xytext = (0, space) ,\n",
    "        textcoords = 'offset points' ,\n",
    "        ha = 'center' ,\n",
    "        va=va\n",
    "    )\n",
    "\n",
    "fig.tight_layout()\n",
    "\n",
    "plt.show()\n"
   ]
  },
  {
   "cell_type": "markdown",
   "metadata": {},
   "source": [
    "Much of the income separate into two buckets, around 20,000 and around 45,000. Does the any other variables impact this?"
   ]
  },
  {
   "cell_type": "code",
   "execution_count": 13,
   "metadata": {
    "ExecuteTime": {
     "end_time": "2021-04-12T15:27:12.545708Z",
     "start_time": "2021-04-12T15:27:12.153711Z"
    }
   },
   "outputs": [
    {
     "data": {
      "image/png": "[encoded data removed]",
      "text/plain": [
       "<Figure size 864x576 with 1 Axes>"
      ]
     },
     "metadata": {
      "needs_background": "light"
     },
     "output_type": "display_data"
    }
   ],
   "source": [
    "fig, ax = plt.subplots(figsize=(12,8))\n",
    "\n",
    "nf, bar_labelins_f, patches_f = ax.hist(df[df['gender']=='Female']['annual_income'], color = '#f99af6', label = 'Female', alpha = .5)\n",
    "nm, bar_labelins_m, patches_m = ax.hist(df[df['gender']=='Male']['annual_income'], color = '#286fb0', label = 'Male', alpha = .5)\n",
    "\n",
    "ax.set_title('Distribution of Annual Income by Gender')\n",
    "ax.set_ylabel('Frequency')\n",
    "ax.set_xlabel('Annual Income')\n",
    "\n",
    "for patches in [patches_f, patches_m]:\n",
    "    for rect in patches:\n",
    "        y_value = rect.get_height()\n",
    "        x_value = rect.get_x() + rect.get_width() / 2\n",
    "\n",
    "        space  = 5\n",
    "        va = 'bottom'\n",
    "        label = str(np.round(y_value, 3))\n",
    "\n",
    "        plt.annotate(\n",
    "            label ,\n",
    "            (x_value, y_value) ,\n",
    "            xytext = (0, space) ,\n",
    "            textcoords = 'offset points' ,\n",
    "            ha = 'center' ,\n",
    "            va=va\n",
    "        )\n",
    "\n",
    "fig.tight_layout()\n",
    "\n",
    "plt.legend()\n",
    "\n",
    "plt.show()"
   ]
  },
  {
   "cell_type": "code",
   "execution_count": 14,
   "metadata": {
    "ExecuteTime": {
     "end_time": "2021-04-12T15:27:17.932173Z",
     "start_time": "2021-04-12T15:27:17.847168Z"
    }
   },
   "outputs": [
    {
     "data": {
      "text/html": [
       "<div>\n",
       "<style scoped>\n",
       "    .dataframe tbody tr th:only-of-type {\n",
       "        vertical-align: middle;\n",
       "    }\n",
       "\n",
       "    .dataframe tbody tr th {\n",
       "        vertical-align: top;\n",
       "    }\n",
       "\n",
       "    .dataframe thead th {\n",
       "        text-align: right;\n",
       "    }\n",
       "</style>\n",
       "<table border=\"1\" class=\"dataframe\">\n",
       "  <thead>\n",
       "    <tr style=\"text-align: right;\">\n",
       "      <th></th>\n",
       "      <th>female</th>\n",
       "      <th>male</th>\n",
       "    </tr>\n",
       "  </thead>\n",
       "  <tbody>\n",
       "    <tr>\n",
       "      <th>count</th>\n",
       "      <td>97.000000</td>\n",
       "      <td>83.000000</td>\n",
       "    </tr>\n",
       "    <tr>\n",
       "      <th>mean</th>\n",
       "      <td>44664.536082</td>\n",
       "      <td>47325.421687</td>\n",
       "    </tr>\n",
       "    <tr>\n",
       "      <th>std</th>\n",
       "      <td>20309.301288</td>\n",
       "      <td>20797.076032</td>\n",
       "    </tr>\n",
       "    <tr>\n",
       "      <th>min</th>\n",
       "      <td>10500.000000</td>\n",
       "      <td>10000.000000</td>\n",
       "    </tr>\n",
       "    <tr>\n",
       "      <th>25%</th>\n",
       "      <td>29000.000000</td>\n",
       "      <td>31000.000000</td>\n",
       "    </tr>\n",
       "    <tr>\n",
       "      <th>50%</th>\n",
       "      <td>45000.000000</td>\n",
       "      <td>45500.000000</td>\n",
       "    </tr>\n",
       "    <tr>\n",
       "      <th>75%</th>\n",
       "      <td>56750.000000</td>\n",
       "      <td>62000.000000</td>\n",
       "    </tr>\n",
       "    <tr>\n",
       "      <th>max</th>\n",
       "      <td>90000.000000</td>\n",
       "      <td>90000.000000</td>\n",
       "    </tr>\n",
       "  </tbody>\n",
       "</table>\n",
       "</div>"
      ],
      "text/plain": [
       "             female          male\n",
       "count     97.000000     83.000000\n",
       "mean   44664.536082  47325.421687\n",
       "std    20309.301288  20797.076032\n",
       "min    10500.000000  10000.000000\n",
       "25%    29000.000000  31000.000000\n",
       "50%    45000.000000  45500.000000\n",
       "75%    56750.000000  62000.000000\n",
       "max    90000.000000  90000.000000"
      ]
     },
     "execution_count": 14,
     "metadata": {},
     "output_type": "execute_result"
    }
   ],
   "source": [
    "df_income_gender = pd.DataFrame([df[df['gender']=='Female']['annual_income'],df[df['gender']=='Male']['annual_income']]).transpose()\n",
    "df_income_gender.columns = ['female','male']\n",
    "df_income_gender.describe()"
   ]
  },
  {
   "cell_type": "markdown",
   "metadata": {},
   "source": [
    "The distribution of Annual Income by Gender has no significance diffirence on both Female and Male Distributions. It is also showed at the mean and median of both Female Distribution and Male Distribution, which are similar on both median and mean."
   ]
  },
  {
   "cell_type": "markdown",
   "metadata": {},
   "source": [
    "But, eventhough the earnings of Female and Male are not different, are their spending also similar?"
   ]
  },
  {
   "cell_type": "code",
   "execution_count": 15,
   "metadata": {
    "ExecuteTime": {
     "end_time": "2021-04-12T15:27:22.407194Z",
     "start_time": "2021-04-12T15:27:22.079846Z"
    }
   },
   "outputs": [
    {
     "data": {
      "image/png": "[encoded data removed]",
      "text/plain": [
       "<Figure size 864x576 with 1 Axes>"
      ]
     },
     "metadata": {
      "needs_background": "light"
     },
     "output_type": "display_data"
    }
   ],
   "source": [
    "fig, ax = plt.subplots(figsize=(12,8))\n",
    "\n",
    "nf, bar_labelins_f, patches_f = ax.hist(df[df['gender']=='Female']['cust_score'], bins= 8, color = '#f99af6', label = 'Female', alpha = .5)\n",
    "nm, bar_labelins_m, patches_m = ax.hist(df[df['gender']=='Male']['cust_score'], bins = 8, color = '#286fb0', label = 'Male', alpha = .5)\n",
    "\n",
    "ax.set_title('Distribution of Customer Score by Gender')\n",
    "ax.set_ylabel('Frequency')\n",
    "ax.set_xlabel('Customer Score')\n",
    "\n",
    "for patches in [patches_f, patches_m]:\n",
    "    for rect in patches:\n",
    "        y_value = rect.get_height()\n",
    "        x_value = rect.get_x() + rect.get_width() / 2\n",
    "\n",
    "        space  = 5\n",
    "        va = 'bottom'\n",
    "        label = str(np.round(y_value, 3))\n",
    "\n",
    "        plt.annotate(\n",
    "            label ,\n",
    "            (x_value, y_value) ,\n",
    "            xytext = (0, space) ,\n",
    "            textcoords = 'offset points' ,\n",
    "            ha = 'center' ,\n",
    "            va=va\n",
    "        )\n",
    "\n",
    "fig.tight_layout()\n",
    "\n",
    "plt.legend()\n",
    "\n",
    "plt.show()"
   ]
  },
  {
   "cell_type": "code",
   "execution_count": 16,
   "metadata": {
    "ExecuteTime": {
     "end_time": "2021-04-12T15:27:37.806601Z",
     "start_time": "2021-04-12T15:27:37.738065Z"
    }
   },
   "outputs": [
    {
     "data": {
      "text/html": [
       "<div>\n",
       "<style scoped>\n",
       "    .dataframe tbody tr th:only-of-type {\n",
       "        vertical-align: middle;\n",
       "    }\n",
       "\n",
       "    .dataframe tbody tr th {\n",
       "        vertical-align: top;\n",
       "    }\n",
       "\n",
       "    .dataframe thead th {\n",
       "        text-align: right;\n",
       "    }\n",
       "</style>\n",
       "<table border=\"1\" class=\"dataframe\">\n",
       "  <thead>\n",
       "    <tr style=\"text-align: right;\">\n",
       "      <th></th>\n",
       "      <th>female</th>\n",
       "      <th>male</th>\n",
       "    </tr>\n",
       "  </thead>\n",
       "  <tbody>\n",
       "    <tr>\n",
       "      <th>count</th>\n",
       "      <td>97.000000</td>\n",
       "      <td>83.000000</td>\n",
       "    </tr>\n",
       "    <tr>\n",
       "      <th>mean</th>\n",
       "      <td>48.721649</td>\n",
       "      <td>43.795181</td>\n",
       "    </tr>\n",
       "    <tr>\n",
       "      <th>std</th>\n",
       "      <td>26.799309</td>\n",
       "      <td>31.422673</td>\n",
       "    </tr>\n",
       "    <tr>\n",
       "      <th>min</th>\n",
       "      <td>1.000000</td>\n",
       "      <td>1.000000</td>\n",
       "    </tr>\n",
       "    <tr>\n",
       "      <th>25%</th>\n",
       "      <td>28.000000</td>\n",
       "      <td>13.500000</td>\n",
       "    </tr>\n",
       "    <tr>\n",
       "      <th>50%</th>\n",
       "      <td>46.000000</td>\n",
       "      <td>45.000000</td>\n",
       "    </tr>\n",
       "    <tr>\n",
       "      <th>75%</th>\n",
       "      <td>71.000000</td>\n",
       "      <td>65.500000</td>\n",
       "    </tr>\n",
       "    <tr>\n",
       "      <th>max</th>\n",
       "      <td>100.000000</td>\n",
       "      <td>100.000000</td>\n",
       "    </tr>\n",
       "  </tbody>\n",
       "</table>\n",
       "</div>"
      ],
      "text/plain": [
       "           female        male\n",
       "count   97.000000   83.000000\n",
       "mean    48.721649   43.795181\n",
       "std     26.799309   31.422673\n",
       "min      1.000000    1.000000\n",
       "25%     28.000000   13.500000\n",
       "50%     46.000000   45.000000\n",
       "75%     71.000000   65.500000\n",
       "max    100.000000  100.000000"
      ]
     },
     "execution_count": 16,
     "metadata": {},
     "output_type": "execute_result"
    }
   ],
   "source": [
    "df_income_gender = pd.DataFrame([df[df['gender']=='Female']['cust_score'],df[df['gender']=='Male']['cust_score']]).transpose()\n",
    "df_income_gender.columns = ['female','male']\n",
    "df_income_gender.describe()"
   ]
  },
  {
   "cell_type": "markdown",
   "metadata": {},
   "source": [
    "Female and Male Customers have a similar on their spendings. They have similar average Customer Score by their purchase behavior, that the Female Avg. is 48.99 and the Male Avg. is 44.43.\n",
    "\n",
    "I think Gender in this data set doesn't give any impact neither to income nor score."
   ]
  },
  {
   "cell_type": "markdown",
   "metadata": {},
   "source": [
    "How about Favorite Time For Shopping? Does it affects the Customer Score?"
   ]
  },
  {
   "cell_type": "code",
   "execution_count": 17,
   "metadata": {
    "ExecuteTime": {
     "end_time": "2021-04-12T15:27:39.629174Z",
     "start_time": "2021-04-12T15:27:39.328179Z"
    }
   },
   "outputs": [
    {
     "data": {
      "image/png": "[encoded data removed]",
      "text/plain": [
       "<Figure size 864x576 with 1 Axes>"
      ]
     },
     "metadata": {
      "needs_background": "light"
     },
     "output_type": "display_data"
    }
   ],
   "source": [
    "fig, ax = plt.subplots(figsize=(12,8))\n",
    "\n",
    "nf, bar_labelins_f, patches_f = ax.hist(df[df['favorite_time']=='Weekend']['cust_score'], bins= 8, color = '#1B5ABA', label = 'Weekend', alpha = .5)\n",
    "nm, bar_labelins_m, patches_m = ax.hist(df[df['favorite_time']=='Weekday']['cust_score'], bins = 8, color = '#159595', label = 'Weekday', alpha = .5)\n",
    "\n",
    "ax.set_title('Distribution of Customer Score by Favorite Time For Shopping')\n",
    "ax.set_ylabel('Frequency')\n",
    "ax.set_xlabel('Customer Score')\n",
    "\n",
    "for patches in [patches_f, patches_m]:\n",
    "    for rect in patches:\n",
    "        y_value = rect.get_height()\n",
    "        x_value = rect.get_x() + rect.get_width() / 2\n",
    "\n",
    "        space  = 5\n",
    "        va = 'bottom'\n",
    "        label = str(np.round(y_value, 3))\n",
    "\n",
    "        plt.annotate(\n",
    "            label ,\n",
    "            (x_value, y_value) ,\n",
    "            xytext = (0, space) ,\n",
    "            textcoords = 'offset points' ,\n",
    "            ha = 'center' ,\n",
    "            va=va\n",
    "        )\n",
    "\n",
    "fig.tight_layout()\n",
    "\n",
    "plt.legend()\n",
    "\n",
    "plt.show()"
   ]
  },
  {
   "cell_type": "code",
   "execution_count": 18,
   "metadata": {
    "ExecuteTime": {
     "end_time": "2021-04-12T15:27:47.775072Z",
     "start_time": "2021-04-12T15:27:47.690073Z"
    }
   },
   "outputs": [
    {
     "data": {
      "text/html": [
       "<div>\n",
       "<style scoped>\n",
       "    .dataframe tbody tr th:only-of-type {\n",
       "        vertical-align: middle;\n",
       "    }\n",
       "\n",
       "    .dataframe tbody tr th {\n",
       "        vertical-align: top;\n",
       "    }\n",
       "\n",
       "    .dataframe thead th {\n",
       "        text-align: right;\n",
       "    }\n",
       "</style>\n",
       "<table border=\"1\" class=\"dataframe\">\n",
       "  <thead>\n",
       "    <tr style=\"text-align: right;\">\n",
       "      <th></th>\n",
       "      <th>weekend</th>\n",
       "      <th>weekday</th>\n",
       "    </tr>\n",
       "  </thead>\n",
       "  <tbody>\n",
       "    <tr>\n",
       "      <th>count</th>\n",
       "      <td>137.000000</td>\n",
       "      <td>43.000000</td>\n",
       "    </tr>\n",
       "    <tr>\n",
       "      <th>mean</th>\n",
       "      <td>47.540146</td>\n",
       "      <td>42.976744</td>\n",
       "    </tr>\n",
       "    <tr>\n",
       "      <th>std</th>\n",
       "      <td>29.384123</td>\n",
       "      <td>27.984254</td>\n",
       "    </tr>\n",
       "    <tr>\n",
       "      <th>min</th>\n",
       "      <td>1.000000</td>\n",
       "      <td>1.000000</td>\n",
       "    </tr>\n",
       "    <tr>\n",
       "      <th>25%</th>\n",
       "      <td>22.000000</td>\n",
       "      <td>22.000000</td>\n",
       "    </tr>\n",
       "    <tr>\n",
       "      <th>50%</th>\n",
       "      <td>47.000000</td>\n",
       "      <td>35.000000</td>\n",
       "    </tr>\n",
       "    <tr>\n",
       "      <th>75%</th>\n",
       "      <td>71.000000</td>\n",
       "      <td>63.500000</td>\n",
       "    </tr>\n",
       "    <tr>\n",
       "      <th>max</th>\n",
       "      <td>100.000000</td>\n",
       "      <td>98.000000</td>\n",
       "    </tr>\n",
       "  </tbody>\n",
       "</table>\n",
       "</div>"
      ],
      "text/plain": [
       "          weekend    weekday\n",
       "count  137.000000  43.000000\n",
       "mean    47.540146  42.976744\n",
       "std     29.384123  27.984254\n",
       "min      1.000000   1.000000\n",
       "25%     22.000000  22.000000\n",
       "50%     47.000000  35.000000\n",
       "75%     71.000000  63.500000\n",
       "max    100.000000  98.000000"
      ]
     },
     "execution_count": 18,
     "metadata": {},
     "output_type": "execute_result"
    }
   ],
   "source": [
    "df_income_gender = pd.DataFrame([df[df['favorite_time']=='Weekend']['cust_score'],df[df['favorite_time']=='Weekday']['cust_score']]).transpose()\n",
    "df_income_gender.columns = ['weekend','weekday']\n",
    "df_income_gender.describe()"
   ]
  },
  {
   "cell_type": "markdown",
   "metadata": {},
   "source": [
    "As we can see that Weekend is more favourite than Weekday for Customers to go shopping. It is showed on both frequencies and distributions. There are 151 customers that go for shopping on Weekend, and 49 customers that go for shopping on Weekday. Customers that shop on Weekend mostly have 46 on their score, while the customers that shop on Weekday mostly have 35 on their score.\n",
    "\n",
    "It looks like Favourite Time effects the Custommer Score (Purchase Behaviour) in this case. We need to check it later, are there any differences between Favourite Time when considering Customer Score?"
   ]
  },
  {
   "cell_type": "markdown",
   "metadata": {},
   "source": [
    "Last but not least, let's see, are there any correlation between our numerical variables?"
   ]
  },
  {
   "cell_type": "code",
   "execution_count": 19,
   "metadata": {
    "ExecuteTime": {
     "end_time": "2021-04-12T15:27:49.071276Z",
     "start_time": "2021-04-12T15:27:48.833297Z"
    }
   },
   "outputs": [
    {
     "data": {
      "text/plain": [
       "<AxesSubplot:>"
      ]
     },
     "execution_count": 19,
     "metadata": {},
     "output_type": "execute_result"
    },
    {
     "data": {
      "image/png": "[encoded data removed]",
      "text/plain": [
       "<Figure size 432x288 with 2 Axes>"
      ]
     },
     "metadata": {
      "needs_background": "light"
     },
     "output_type": "display_data"
    }
   ],
   "source": [
    "sns.heatmap(df.drop('cust_id', axis=1).corr(), annot= True)"
   ]
  },
  {
   "cell_type": "markdown",
   "metadata": {},
   "source": [
    "As we can see that there are no correlation on our numerical variables."
   ]
  },
  {
   "cell_type": "markdown",
   "metadata": {},
   "source": [
    "Before we test our Hypothesis on the Favourite Time Variable, I want to check our other categorical variable, which is Hometown."
   ]
  },
  {
   "cell_type": "code",
   "execution_count": 20,
   "metadata": {
    "ExecuteTime": {
     "end_time": "2021-04-12T15:28:00.336569Z",
     "start_time": "2021-04-12T15:28:00.112568Z"
    }
   },
   "outputs": [
    {
     "data": {
      "image/png": "[encoded data removed]",
      "text/plain": [
       "<Figure size 864x576 with 1 Axes>"
      ]
     },
     "metadata": {
      "needs_background": "light"
     },
     "output_type": "display_data"
    }
   ],
   "source": [
    "fig, ax = plt.subplots(figsize=(12,8))\n",
    "\n",
    "rect = ax.bar(df['hometown'].unique(), df['hometown'].value_counts(), color ='#900c3f')\n",
    "\n",
    "ax.set_title('Distribution of Customers By Hometown')\n",
    "ax.set_ylabel('Num of Customers')\n",
    "ax.set_xlabel('Hometown')\n",
    "\n",
    "ax.bar_label(rect, padding=3)\n",
    "\n",
    "fig.tight_layout()\n",
    "\n",
    "plt.show()\n",
    "\n"
   ]
  },
  {
   "cell_type": "markdown",
   "metadata": {},
   "source": [
    "We can see that distribution of customers by their hometown is highly imbalance. Almost all of our customers live in Jakarta."
   ]
  },
  {
   "cell_type": "markdown",
   "metadata": {},
   "source": [
    "So, now I think we need to calculate the differences between Favourite Time For Shopping when considering the Customer Score.\n",
    "\n",
    "First, we prepare our data. We devide our data into 2 groups. The first one is Group of customers that do shopping on Weekend. And the second is Group of customers that do shopping on Weekday."
   ]
  },
  {
   "cell_type": "markdown",
   "metadata": {},
   "source": [
    "> *__Null Hypothesis (HO)__ -> People will be equally likely to do shopping in anytime.*\n",
    "\n",
    "> *__Alternative Hypothesis (HA)__ -> People will be more likely to do shopping on the Weekend.*"
   ]
  },
  {
   "cell_type": "code",
   "execution_count": 21,
   "metadata": {
    "ExecuteTime": {
     "end_time": "2021-04-12T15:28:04.868108Z",
     "start_time": "2021-04-12T15:28:04.849127Z"
    }
   },
   "outputs": [
    {
     "name": "stdout",
     "output_type": "stream",
     "text": [
      "sample size group 1 adalah 137\n",
      "sample size group 2 adalah 43\n"
     ]
    }
   ],
   "source": [
    "group1 = df[df['favorite_time']=='Weekend']['cust_score']\n",
    "group2 = df[df['favorite_time']=='Weekday']['cust_score']\n",
    "\n",
    "print('sample size group 1 adalah {}'.format(len(group1)))\n",
    "print('sample size group 2 adalah {}'.format(len(group2)))"
   ]
  },
  {
   "cell_type": "code",
   "execution_count": 22,
   "metadata": {
    "ExecuteTime": {
     "end_time": "2021-04-12T15:28:07.568220Z",
     "start_time": "2021-04-12T15:28:07.550215Z"
    }
   },
   "outputs": [
    {
     "name": "stdout",
     "output_type": "stream",
     "text": [
      "The groups are NOT significantly difference! t(178) = 0.9, p=0.370204\n"
     ]
    }
   ],
   "source": [
    "t, p = stats.ttest_ind(group1, group2)\n",
    "\n",
    "sigtxt = ('',' NOT')\n",
    "print('The groups are{} significantly difference! t({}) = {}, p={}'.format(sigtxt[int(p>.05)],\n",
    "                                                                         (len(group1)+len(group2))-2,\n",
    "                                                                         np.round(t,2),\n",
    "                                                                         np.round(p,6)))"
   ]
  },
  {
   "cell_type": "markdown",
   "metadata": {},
   "source": [
    "From the t-test, we could conclude that we fail to reject the *Null Hypothesis*, that mean customers's purchase behavior is equal across all days. Neither Weekend nor Weekday do not constitute a difference in customer's purchase behavior."
   ]
  },
  {
   "cell_type": "markdown",
   "metadata": {},
   "source": [
    "# Features Engineering"
   ]
  },
  {
   "cell_type": "markdown",
   "metadata": {},
   "source": [
    "Before we do the customer segmentation with K-Means Clustering, we need to change our categorical variables into numerical variables. Because we will use all our features to do the segmentation.\n",
    "\n",
    "We have 3 categorical variables, they are Gender, Hometown, and Favourite Time.\n",
    "\n",
    "For the Gender and Favourite Time, we can use label encoding for the transformation. And for the Hometown we will use One Hot Encoding for the transformation."
   ]
  },
  {
   "cell_type": "markdown",
   "metadata": {},
   "source": [
    "### Label Encoding"
   ]
  },
  {
   "cell_type": "code",
   "execution_count": 23,
   "metadata": {
    "ExecuteTime": {
     "end_time": "2021-04-12T15:28:18.423323Z",
     "start_time": "2021-04-12T15:28:18.408320Z"
    }
   },
   "outputs": [
    {
     "data": {
      "text/plain": [
       "Female    97\n",
       "Male      83\n",
       "Name: gender, dtype: int64"
      ]
     },
     "execution_count": 23,
     "metadata": {},
     "output_type": "execute_result"
    }
   ],
   "source": [
    "df['gender'].value_counts()"
   ]
  },
  {
   "cell_type": "code",
   "execution_count": 24,
   "metadata": {
    "ExecuteTime": {
     "end_time": "2021-04-12T15:28:18.708358Z",
     "start_time": "2021-04-12T15:28:18.695326Z"
    }
   },
   "outputs": [],
   "source": [
    "df['gender'] = df['gender'].map({'Male':0 , 'Female':1})"
   ]
  },
  {
   "cell_type": "code",
   "execution_count": 25,
   "metadata": {
    "ExecuteTime": {
     "end_time": "2021-04-12T15:28:18.911323Z",
     "start_time": "2021-04-12T15:28:18.899323Z"
    }
   },
   "outputs": [
    {
     "data": {
      "text/plain": [
       "1    97\n",
       "0    83\n",
       "Name: gender, dtype: int64"
      ]
     },
     "execution_count": 25,
     "metadata": {},
     "output_type": "execute_result"
    }
   ],
   "source": [
    "df['gender'].value_counts()"
   ]
  },
  {
   "cell_type": "code",
   "execution_count": 26,
   "metadata": {
    "ExecuteTime": {
     "end_time": "2021-04-12T15:28:19.117319Z",
     "start_time": "2021-04-12T15:28:19.104330Z"
    }
   },
   "outputs": [
    {
     "data": {
      "text/plain": [
       "Weekend    137\n",
       "Weekday     43\n",
       "Name: favorite_time, dtype: int64"
      ]
     },
     "execution_count": 26,
     "metadata": {},
     "output_type": "execute_result"
    }
   ],
   "source": [
    "df['favorite_time'].value_counts()"
   ]
  },
  {
   "cell_type": "code",
   "execution_count": 27,
   "metadata": {
    "ExecuteTime": {
     "end_time": "2021-04-12T15:28:19.323322Z",
     "start_time": "2021-04-12T15:28:19.311318Z"
    }
   },
   "outputs": [],
   "source": [
    "df['favorite_time'] = df['favorite_time'].map({'Weekend' : 1, 'Weekday' : 0})"
   ]
  },
  {
   "cell_type": "code",
   "execution_count": 28,
   "metadata": {
    "ExecuteTime": {
     "end_time": "2021-04-12T15:28:19.527321Z",
     "start_time": "2021-04-12T15:28:19.514316Z"
    }
   },
   "outputs": [
    {
     "data": {
      "text/plain": [
       "1    137\n",
       "0     43\n",
       "Name: favorite_time, dtype: int64"
      ]
     },
     "execution_count": 28,
     "metadata": {},
     "output_type": "execute_result"
    }
   ],
   "source": [
    "df['favorite_time'].value_counts()"
   ]
  },
  {
   "cell_type": "markdown",
   "metadata": {},
   "source": [
    "### One Hot Encoding"
   ]
  },
  {
   "cell_type": "code",
   "execution_count": 29,
   "metadata": {
    "ExecuteTime": {
     "end_time": "2021-04-12T15:28:19.733321Z",
     "start_time": "2021-04-12T15:28:19.719315Z"
    }
   },
   "outputs": [
    {
     "data": {
      "text/plain": [
       "Index(['cust_id', 'gender', 'age', 'annual_income', 'cust_score', 'hometown',\n",
       "       'favorite_time'],\n",
       "      dtype='object')"
      ]
     },
     "execution_count": 29,
     "metadata": {},
     "output_type": "execute_result"
    }
   ],
   "source": [
    "df.columns"
   ]
  },
  {
   "cell_type": "code",
   "execution_count": 30,
   "metadata": {
    "ExecuteTime": {
     "end_time": "2021-04-12T15:28:19.953320Z",
     "start_time": "2021-04-12T15:28:19.939316Z"
    }
   },
   "outputs": [],
   "source": [
    "df = pd.get_dummies(df, columns=['hometown'])"
   ]
  },
  {
   "cell_type": "code",
   "execution_count": 31,
   "metadata": {
    "ExecuteTime": {
     "end_time": "2021-04-12T15:28:20.159316Z",
     "start_time": "2021-04-12T15:28:20.146317Z"
    }
   },
   "outputs": [
    {
     "data": {
      "text/plain": [
       "Index(['cust_id', 'gender', 'age', 'annual_income', 'cust_score',\n",
       "       'favorite_time', 'hometown_Bandung', 'hometown_Jakarta'],\n",
       "      dtype='object')"
      ]
     },
     "execution_count": 31,
     "metadata": {},
     "output_type": "execute_result"
    }
   ],
   "source": [
    "df.columns"
   ]
  },
  {
   "cell_type": "code",
   "execution_count": 32,
   "metadata": {
    "ExecuteTime": {
     "end_time": "2021-04-12T15:28:20.364316Z",
     "start_time": "2021-04-12T15:28:20.351322Z"
    }
   },
   "outputs": [
    {
     "data": {
      "text/html": [
       "<div>\n",
       "<style scoped>\n",
       "    .dataframe tbody tr th:only-of-type {\n",
       "        vertical-align: middle;\n",
       "    }\n",
       "\n",
       "    .dataframe tbody tr th {\n",
       "        vertical-align: top;\n",
       "    }\n",
       "\n",
       "    .dataframe thead th {\n",
       "        text-align: right;\n",
       "    }\n",
       "</style>\n",
       "<table border=\"1\" class=\"dataframe\">\n",
       "  <thead>\n",
       "    <tr style=\"text-align: right;\">\n",
       "      <th></th>\n",
       "      <th>cust_id</th>\n",
       "      <th>gender</th>\n",
       "      <th>age</th>\n",
       "      <th>annual_income</th>\n",
       "      <th>cust_score</th>\n",
       "      <th>favorite_time</th>\n",
       "      <th>hometown_Bandung</th>\n",
       "      <th>hometown_Jakarta</th>\n",
       "    </tr>\n",
       "  </thead>\n",
       "  <tbody>\n",
       "    <tr>\n",
       "      <th>0</th>\n",
       "      <td>1</td>\n",
       "      <td>1</td>\n",
       "      <td>20</td>\n",
       "      <td>20000</td>\n",
       "      <td>1</td>\n",
       "      <td>1</td>\n",
       "      <td>0</td>\n",
       "      <td>1</td>\n",
       "    </tr>\n",
       "    <tr>\n",
       "      <th>1</th>\n",
       "      <td>2</td>\n",
       "      <td>0</td>\n",
       "      <td>21</td>\n",
       "      <td>34000</td>\n",
       "      <td>81</td>\n",
       "      <td>1</td>\n",
       "      <td>0</td>\n",
       "      <td>1</td>\n",
       "    </tr>\n",
       "    <tr>\n",
       "      <th>2</th>\n",
       "      <td>3</td>\n",
       "      <td>1</td>\n",
       "      <td>18</td>\n",
       "      <td>12350</td>\n",
       "      <td>1</td>\n",
       "      <td>1</td>\n",
       "      <td>0</td>\n",
       "      <td>1</td>\n",
       "    </tr>\n",
       "    <tr>\n",
       "      <th>3</th>\n",
       "      <td>4</td>\n",
       "      <td>0</td>\n",
       "      <td>45</td>\n",
       "      <td>12000</td>\n",
       "      <td>1</td>\n",
       "      <td>0</td>\n",
       "      <td>1</td>\n",
       "      <td>0</td>\n",
       "    </tr>\n",
       "    <tr>\n",
       "      <th>4</th>\n",
       "      <td>5</td>\n",
       "      <td>0</td>\n",
       "      <td>31</td>\n",
       "      <td>18000</td>\n",
       "      <td>10</td>\n",
       "      <td>1</td>\n",
       "      <td>1</td>\n",
       "      <td>0</td>\n",
       "    </tr>\n",
       "  </tbody>\n",
       "</table>\n",
       "</div>"
      ],
      "text/plain": [
       "   cust_id  gender  age  annual_income  cust_score  favorite_time  \\\n",
       "0        1       1   20          20000           1              1   \n",
       "1        2       0   21          34000          81              1   \n",
       "2        3       1   18          12350           1              1   \n",
       "3        4       0   45          12000           1              0   \n",
       "4        5       0   31          18000          10              1   \n",
       "\n",
       "   hometown_Bandung  hometown_Jakarta  \n",
       "0                 0                 1  \n",
       "1                 0                 1  \n",
       "2                 0                 1  \n",
       "3                 1                 0  \n",
       "4                 1                 0  "
      ]
     },
     "execution_count": 32,
     "metadata": {},
     "output_type": "execute_result"
    }
   ],
   "source": [
    "df.head()"
   ]
  },
  {
   "cell_type": "markdown",
   "metadata": {},
   "source": [
    "# Modeling"
   ]
  },
  {
   "cell_type": "code",
   "execution_count": 33,
   "metadata": {
    "ExecuteTime": {
     "end_time": "2021-04-12T15:28:20.883539Z",
     "start_time": "2021-04-12T15:28:20.654540Z"
    }
   },
   "outputs": [],
   "source": [
    "from sklearn.cluster import KMeans"
   ]
  },
  {
   "cell_type": "markdown",
   "metadata": {},
   "source": [
    "### Create Function for ordering the culster numbers"
   ]
  },
  {
   "cell_type": "code",
   "execution_count": 34,
   "metadata": {
    "ExecuteTime": {
     "end_time": "2021-04-12T15:28:21.122537Z",
     "start_time": "2021-04-12T15:28:21.108540Z"
    }
   },
   "outputs": [],
   "source": [
    "df_result = df[['cust_id','age','annual_income','cust_score']]"
   ]
  },
  {
   "cell_type": "code",
   "execution_count": 35,
   "metadata": {
    "ExecuteTime": {
     "end_time": "2021-04-12T15:28:21.471641Z",
     "start_time": "2021-04-12T15:28:21.460639Z"
    }
   },
   "outputs": [],
   "source": [
    "def order_cluster(cluster_field_name, target_field_name,df,asc):\n",
    "    new_cluster_field_name = 'new_' + cluster_field_name\n",
    "    df_new = df.groupby(cluster_field_name)[target_field_name].mean().reset_index()\n",
    "    df_new = df_new.sort_values(by=target_field_name,ascending=asc).reset_index(drop=True)\n",
    "    df_new['index'] = df_new.index\n",
    "    df_final = pd.merge(df,df_new[[cluster_field_name,'index']], on=cluster_field_name)\n",
    "    df_final = df_final.drop([cluster_field_name],axis=1)\n",
    "    df_final = df_final.rename(columns={\"index\":cluster_field_name})\n",
    "    return df_final"
   ]
  },
  {
   "cell_type": "markdown",
   "metadata": {},
   "source": [
    "## Clustering By Age"
   ]
  },
  {
   "cell_type": "code",
   "execution_count": 36,
   "metadata": {
    "ExecuteTime": {
     "end_time": "2021-04-12T15:28:22.574383Z",
     "start_time": "2021-04-12T15:28:22.127948Z"
    }
   },
   "outputs": [
    {
     "data": {
      "image/png": "[encoded data removed]",
      "text/plain": [
       "<Figure size 864x576 with 1 Axes>"
      ]
     },
     "metadata": {
      "needs_background": "light"
     },
     "output_type": "display_data"
    }
   ],
   "source": [
    "df_age = df_result[['age']]\n",
    "\n",
    "evaluation = {}\n",
    "\n",
    "for n in range(1,11):\n",
    "    model = KMeans(n_clusters = n, \n",
    "                   init = 'k-means++',\n",
    "                   n_init = 10 ,\n",
    "                   max_iter = 300 ,\n",
    "                   random_state = 100\n",
    "                  )\n",
    "    model.fit(df_age)\n",
    "    evaluation[n] = model.inertia_\n",
    "\n",
    "# evaluating the model\n",
    "\n",
    "plt.figure(1, figsize=(12,8))\n",
    "plt.plot(list(evaluation.keys()), list(evaluation.values()), 'o')\n",
    "plt.plot(list(evaluation.keys()), list(evaluation.values()), '-', alpha = 0.5)\n",
    "plt.xlabel('Number of Clusters')\n",
    "plt.ylabel('Inertia')\n",
    "plt.show()"
   ]
  },
  {
   "cell_type": "code",
   "execution_count": 37,
   "metadata": {
    "ExecuteTime": {
     "end_time": "2021-04-12T15:28:22.807386Z",
     "start_time": "2021-04-12T15:28:22.762379Z"
    }
   },
   "outputs": [],
   "source": [
    "model = KMeans(n_clusters = 3, \n",
    "               init = 'k-means++',\n",
    "               n_init = 10 ,\n",
    "               max_iter = 300 ,\n",
    "               random_state = 100\n",
    "              )\n",
    "model.fit(df_age)\n",
    "df_result['age_cluster'] = model.predict(df_result[['age']])"
   ]
  },
  {
   "cell_type": "code",
   "execution_count": 38,
   "metadata": {
    "ExecuteTime": {
     "end_time": "2021-04-12T15:28:23.029380Z",
     "start_time": "2021-04-12T15:28:23.000380Z"
    }
   },
   "outputs": [],
   "source": [
    "df_result = order_cluster('age_cluster','age',df_result, False)"
   ]
  },
  {
   "cell_type": "code",
   "execution_count": 39,
   "metadata": {
    "ExecuteTime": {
     "end_time": "2021-04-12T15:28:23.295380Z",
     "start_time": "2021-04-12T15:28:23.227379Z"
    }
   },
   "outputs": [
    {
     "data": {
      "text/html": [
       "<div>\n",
       "<style scoped>\n",
       "    .dataframe tbody tr th:only-of-type {\n",
       "        vertical-align: middle;\n",
       "    }\n",
       "\n",
       "    .dataframe tbody tr th {\n",
       "        vertical-align: top;\n",
       "    }\n",
       "\n",
       "    .dataframe thead th {\n",
       "        text-align: right;\n",
       "    }\n",
       "</style>\n",
       "<table border=\"1\" class=\"dataframe\">\n",
       "  <thead>\n",
       "    <tr style=\"text-align: right;\">\n",
       "      <th></th>\n",
       "      <th>count</th>\n",
       "      <th>mean</th>\n",
       "      <th>std</th>\n",
       "      <th>min</th>\n",
       "      <th>25%</th>\n",
       "      <th>50%</th>\n",
       "      <th>75%</th>\n",
       "      <th>max</th>\n",
       "    </tr>\n",
       "    <tr>\n",
       "      <th>age_cluster</th>\n",
       "      <th></th>\n",
       "      <th></th>\n",
       "      <th></th>\n",
       "      <th></th>\n",
       "      <th></th>\n",
       "      <th></th>\n",
       "      <th></th>\n",
       "      <th></th>\n",
       "    </tr>\n",
       "  </thead>\n",
       "  <tbody>\n",
       "    <tr>\n",
       "      <th>0</th>\n",
       "      <td>30.0</td>\n",
       "      <td>61.300000</td>\n",
       "      <td>5.914039</td>\n",
       "      <td>53.0</td>\n",
       "      <td>57.0</td>\n",
       "      <td>60.0</td>\n",
       "      <td>66.0</td>\n",
       "      <td>75.0</td>\n",
       "    </tr>\n",
       "    <tr>\n",
       "      <th>1</th>\n",
       "      <td>56.0</td>\n",
       "      <td>44.535714</td>\n",
       "      <td>4.560559</td>\n",
       "      <td>37.0</td>\n",
       "      <td>40.0</td>\n",
       "      <td>45.0</td>\n",
       "      <td>49.0</td>\n",
       "      <td>52.0</td>\n",
       "    </tr>\n",
       "    <tr>\n",
       "      <th>2</th>\n",
       "      <td>94.0</td>\n",
       "      <td>28.021277</td>\n",
       "      <td>5.624407</td>\n",
       "      <td>18.0</td>\n",
       "      <td>23.0</td>\n",
       "      <td>30.0</td>\n",
       "      <td>32.0</td>\n",
       "      <td>36.0</td>\n",
       "    </tr>\n",
       "  </tbody>\n",
       "</table>\n",
       "</div>"
      ],
      "text/plain": [
       "             count       mean       std   min   25%   50%   75%   max\n",
       "age_cluster                                                          \n",
       "0             30.0  61.300000  5.914039  53.0  57.0  60.0  66.0  75.0\n",
       "1             56.0  44.535714  4.560559  37.0  40.0  45.0  49.0  52.0\n",
       "2             94.0  28.021277  5.624407  18.0  23.0  30.0  32.0  36.0"
      ]
     },
     "execution_count": 39,
     "metadata": {},
     "output_type": "execute_result"
    }
   ],
   "source": [
    "df_result.groupby('age_cluster').describe()['age']"
   ]
  },
  {
   "cell_type": "markdown",
   "metadata": {},
   "source": [
    "## Clustering By Customer Score"
   ]
  },
  {
   "cell_type": "code",
   "execution_count": 40,
   "metadata": {
    "ExecuteTime": {
     "end_time": "2021-04-12T15:28:24.321064Z",
     "start_time": "2021-04-12T15:28:23.849072Z"
    }
   },
   "outputs": [
    {
     "data": {
      "image/png": "[encoded data removed]",
      "text/plain": [
       "<Figure size 864x576 with 1 Axes>"
      ]
     },
     "metadata": {
      "needs_background": "light"
     },
     "output_type": "display_data"
    }
   ],
   "source": [
    "df_cust_score = df_result[['cust_score']]\n",
    "\n",
    "evaluation = {}\n",
    "\n",
    "for n in range(1,11):\n",
    "    model = KMeans(n_clusters = n, \n",
    "                   init = 'k-means++',\n",
    "                   n_init = 10 ,\n",
    "                   max_iter = 300 ,\n",
    "                   random_state = 100\n",
    "                  )\n",
    "    model.fit(df_cust_score)\n",
    "    evaluation[n] = model.inertia_\n",
    "\n",
    "# evaluating the model\n",
    "\n",
    "plt.figure(1, figsize=(12,8))\n",
    "plt.plot(list(evaluation.keys()), list(evaluation.values()), 'o')\n",
    "plt.plot(list(evaluation.keys()), list(evaluation.values()), '-', alpha = 0.5)\n",
    "plt.xlabel('Number of Clusters')\n",
    "plt.ylabel('Inertia')\n",
    "plt.show()"
   ]
  },
  {
   "cell_type": "code",
   "execution_count": 41,
   "metadata": {
    "ExecuteTime": {
     "end_time": "2021-04-12T15:28:24.573087Z",
     "start_time": "2021-04-12T15:28:24.528064Z"
    }
   },
   "outputs": [],
   "source": [
    "model = KMeans(n_clusters = 3, \n",
    "               init = 'k-means++',\n",
    "               n_init = 10 ,\n",
    "               max_iter = 300 ,\n",
    "               random_state = 100\n",
    "              )\n",
    "model.fit(df_cust_score)\n",
    "df_result['score_cluster'] = model.predict(df_result[['cust_score']])"
   ]
  },
  {
   "cell_type": "code",
   "execution_count": 42,
   "metadata": {
    "ExecuteTime": {
     "end_time": "2021-04-12T15:28:24.825067Z",
     "start_time": "2021-04-12T15:28:24.807066Z"
    }
   },
   "outputs": [],
   "source": [
    "df_result = order_cluster('score_cluster','cust_score',df_result, True)"
   ]
  },
  {
   "cell_type": "code",
   "execution_count": 43,
   "metadata": {
    "ExecuteTime": {
     "end_time": "2021-04-12T15:28:25.222225Z",
     "start_time": "2021-04-12T15:28:25.155230Z"
    }
   },
   "outputs": [
    {
     "data": {
      "text/html": [
       "<div>\n",
       "<style scoped>\n",
       "    .dataframe tbody tr th:only-of-type {\n",
       "        vertical-align: middle;\n",
       "    }\n",
       "\n",
       "    .dataframe tbody tr th {\n",
       "        vertical-align: top;\n",
       "    }\n",
       "\n",
       "    .dataframe thead th {\n",
       "        text-align: right;\n",
       "    }\n",
       "</style>\n",
       "<table border=\"1\" class=\"dataframe\">\n",
       "  <thead>\n",
       "    <tr style=\"text-align: right;\">\n",
       "      <th></th>\n",
       "      <th>count</th>\n",
       "      <th>mean</th>\n",
       "      <th>std</th>\n",
       "      <th>min</th>\n",
       "      <th>25%</th>\n",
       "      <th>50%</th>\n",
       "      <th>75%</th>\n",
       "      <th>max</th>\n",
       "    </tr>\n",
       "    <tr>\n",
       "      <th>score_cluster</th>\n",
       "      <th></th>\n",
       "      <th></th>\n",
       "      <th></th>\n",
       "      <th></th>\n",
       "      <th></th>\n",
       "      <th></th>\n",
       "      <th></th>\n",
       "      <th></th>\n",
       "    </tr>\n",
       "  </thead>\n",
       "  <tbody>\n",
       "    <tr>\n",
       "      <th>0</th>\n",
       "      <td>57.0</td>\n",
       "      <td>12.473684</td>\n",
       "      <td>8.980346</td>\n",
       "      <td>1.0</td>\n",
       "      <td>5.0</td>\n",
       "      <td>13.0</td>\n",
       "      <td>21.0</td>\n",
       "      <td>29.0</td>\n",
       "    </tr>\n",
       "    <tr>\n",
       "      <th>1</th>\n",
       "      <td>73.0</td>\n",
       "      <td>47.575342</td>\n",
       "      <td>9.550913</td>\n",
       "      <td>31.0</td>\n",
       "      <td>41.0</td>\n",
       "      <td>46.0</td>\n",
       "      <td>56.0</td>\n",
       "      <td>63.0</td>\n",
       "    </tr>\n",
       "    <tr>\n",
       "      <th>2</th>\n",
       "      <td>50.0</td>\n",
       "      <td>83.540000</td>\n",
       "      <td>10.339561</td>\n",
       "      <td>67.0</td>\n",
       "      <td>75.0</td>\n",
       "      <td>84.0</td>\n",
       "      <td>92.0</td>\n",
       "      <td>100.0</td>\n",
       "    </tr>\n",
       "  </tbody>\n",
       "</table>\n",
       "</div>"
      ],
      "text/plain": [
       "               count       mean        std   min   25%   50%   75%    max\n",
       "score_cluster                                                            \n",
       "0               57.0  12.473684   8.980346   1.0   5.0  13.0  21.0   29.0\n",
       "1               73.0  47.575342   9.550913  31.0  41.0  46.0  56.0   63.0\n",
       "2               50.0  83.540000  10.339561  67.0  75.0  84.0  92.0  100.0"
      ]
     },
     "execution_count": 43,
     "metadata": {},
     "output_type": "execute_result"
    }
   ],
   "source": [
    "df_result.groupby('score_cluster').describe()['cust_score']"
   ]
  },
  {
   "cell_type": "markdown",
   "metadata": {},
   "source": [
    "## Clustering By Annual Income"
   ]
  },
  {
   "cell_type": "code",
   "execution_count": 44,
   "metadata": {
    "ExecuteTime": {
     "end_time": "2021-04-12T15:28:26.091228Z",
     "start_time": "2021-04-12T15:28:25.671225Z"
    }
   },
   "outputs": [
    {
     "data": {
      "image/png": "[encoded data removed]",
      "text/plain": [
       "<Figure size 864x576 with 1 Axes>"
      ]
     },
     "metadata": {
      "needs_background": "light"
     },
     "output_type": "display_data"
    }
   ],
   "source": [
    "df_annual_income = df_result[['annual_income']]\n",
    "\n",
    "evaluation = {}\n",
    "\n",
    "for n in range(1,11):\n",
    "    model = KMeans(n_clusters = n, \n",
    "                   init = 'k-means++',\n",
    "                   n_init = 10 ,\n",
    "                   max_iter = 300 ,\n",
    "                   random_state = 100\n",
    "                  )\n",
    "    model.fit(df_annual_income)\n",
    "    evaluation[n] = model.inertia_\n",
    "\n",
    "# evaluating the model\n",
    "\n",
    "plt.figure(1, figsize=(12,8))\n",
    "plt.plot(list(evaluation.keys()), list(evaluation.values()), 'o')\n",
    "plt.plot(list(evaluation.keys()), list(evaluation.values()), '-', alpha = 0.5)\n",
    "plt.xlabel('Number of Clusters')\n",
    "plt.ylabel('Inertia')\n",
    "plt.show()"
   ]
  },
  {
   "cell_type": "code",
   "execution_count": 45,
   "metadata": {
    "ExecuteTime": {
     "end_time": "2021-04-12T15:28:26.405228Z",
     "start_time": "2021-04-12T15:28:26.344228Z"
    }
   },
   "outputs": [],
   "source": [
    "model = KMeans(n_clusters = 3, \n",
    "               init = 'k-means++',\n",
    "               n_init = 10 ,\n",
    "               max_iter = 300 ,\n",
    "               random_state = 100\n",
    "              )\n",
    "model.fit(df_annual_income)\n",
    "df_result['income_cluster'] = model.predict(df_result[['annual_income']])"
   ]
  },
  {
   "cell_type": "code",
   "execution_count": 46,
   "metadata": {
    "ExecuteTime": {
     "end_time": "2021-04-12T15:28:26.690228Z",
     "start_time": "2021-04-12T15:28:26.662229Z"
    }
   },
   "outputs": [],
   "source": [
    "df_result = order_cluster('income_cluster','annual_income',df_result, True)"
   ]
  },
  {
   "cell_type": "code",
   "execution_count": 47,
   "metadata": {
    "ExecuteTime": {
     "end_time": "2021-04-12T15:28:28.266858Z",
     "start_time": "2021-04-12T15:28:28.167856Z"
    }
   },
   "outputs": [
    {
     "data": {
      "text/html": [
       "<div>\n",
       "<style scoped>\n",
       "    .dataframe tbody tr th:only-of-type {\n",
       "        vertical-align: middle;\n",
       "    }\n",
       "\n",
       "    .dataframe tbody tr th {\n",
       "        vertical-align: top;\n",
       "    }\n",
       "\n",
       "    .dataframe thead th {\n",
       "        text-align: right;\n",
       "    }\n",
       "</style>\n",
       "<table border=\"1\" class=\"dataframe\">\n",
       "  <thead>\n",
       "    <tr style=\"text-align: right;\">\n",
       "      <th></th>\n",
       "      <th>count</th>\n",
       "      <th>mean</th>\n",
       "      <th>std</th>\n",
       "      <th>min</th>\n",
       "      <th>25%</th>\n",
       "      <th>50%</th>\n",
       "      <th>75%</th>\n",
       "      <th>max</th>\n",
       "    </tr>\n",
       "    <tr>\n",
       "      <th>income_cluster</th>\n",
       "      <th></th>\n",
       "      <th></th>\n",
       "      <th></th>\n",
       "      <th></th>\n",
       "      <th></th>\n",
       "      <th></th>\n",
       "      <th></th>\n",
       "      <th></th>\n",
       "    </tr>\n",
       "  </thead>\n",
       "  <tbody>\n",
       "    <tr>\n",
       "      <th>0</th>\n",
       "      <td>68.0</td>\n",
       "      <td>24632.058824</td>\n",
       "      <td>7618.238242</td>\n",
       "      <td>10000.0</td>\n",
       "      <td>19962.5</td>\n",
       "      <td>24440.0</td>\n",
       "      <td>32000.0</td>\n",
       "      <td>35000.0</td>\n",
       "    </tr>\n",
       "    <tr>\n",
       "      <th>1</th>\n",
       "      <td>75.0</td>\n",
       "      <td>50525.866667</td>\n",
       "      <td>6611.188733</td>\n",
       "      <td>38900.0</td>\n",
       "      <td>45000.0</td>\n",
       "      <td>50000.0</td>\n",
       "      <td>55800.0</td>\n",
       "      <td>63000.0</td>\n",
       "    </tr>\n",
       "    <tr>\n",
       "      <th>2</th>\n",
       "      <td>37.0</td>\n",
       "      <td>75568.918919</td>\n",
       "      <td>9610.666465</td>\n",
       "      <td>65000.0</td>\n",
       "      <td>67600.0</td>\n",
       "      <td>71000.0</td>\n",
       "      <td>89000.0</td>\n",
       "      <td>90000.0</td>\n",
       "    </tr>\n",
       "  </tbody>\n",
       "</table>\n",
       "</div>"
      ],
      "text/plain": [
       "                count          mean          std      min      25%      50%  \\\n",
       "income_cluster                                                                \n",
       "0                68.0  24632.058824  7618.238242  10000.0  19962.5  24440.0   \n",
       "1                75.0  50525.866667  6611.188733  38900.0  45000.0  50000.0   \n",
       "2                37.0  75568.918919  9610.666465  65000.0  67600.0  71000.0   \n",
       "\n",
       "                    75%      max  \n",
       "income_cluster                    \n",
       "0               32000.0  35000.0  \n",
       "1               55800.0  63000.0  \n",
       "2               89000.0  90000.0  "
      ]
     },
     "execution_count": 47,
     "metadata": {},
     "output_type": "execute_result"
    }
   ],
   "source": [
    "df_result.groupby('income_cluster').describe()['annual_income']"
   ]
  },
  {
   "cell_type": "code",
   "execution_count": null,
   "metadata": {},
   "outputs": [],
   "source": []
  },
  {
   "cell_type": "code",
   "execution_count": 48,
   "metadata": {
    "ExecuteTime": {
     "end_time": "2021-04-12T15:28:29.419464Z",
     "start_time": "2021-04-12T15:28:29.374468Z"
    }
   },
   "outputs": [
    {
     "data": {
      "text/html": [
       "<div>\n",
       "<style scoped>\n",
       "    .dataframe tbody tr th:only-of-type {\n",
       "        vertical-align: middle;\n",
       "    }\n",
       "\n",
       "    .dataframe tbody tr th {\n",
       "        vertical-align: top;\n",
       "    }\n",
       "\n",
       "    .dataframe thead th {\n",
       "        text-align: right;\n",
       "    }\n",
       "</style>\n",
       "<table border=\"1\" class=\"dataframe\">\n",
       "  <thead>\n",
       "    <tr style=\"text-align: right;\">\n",
       "      <th></th>\n",
       "      <th>cust_id</th>\n",
       "      <th>age</th>\n",
       "      <th>annual_income</th>\n",
       "      <th>cust_score</th>\n",
       "      <th>age_cluster</th>\n",
       "      <th>score_cluster</th>\n",
       "      <th>income_cluster</th>\n",
       "    </tr>\n",
       "  </thead>\n",
       "  <tbody>\n",
       "    <tr>\n",
       "      <th>0</th>\n",
       "      <td>1</td>\n",
       "      <td>20</td>\n",
       "      <td>20000</td>\n",
       "      <td>1</td>\n",
       "      <td>2</td>\n",
       "      <td>0</td>\n",
       "      <td>0</td>\n",
       "    </tr>\n",
       "    <tr>\n",
       "      <th>1</th>\n",
       "      <td>3</td>\n",
       "      <td>18</td>\n",
       "      <td>12350</td>\n",
       "      <td>1</td>\n",
       "      <td>2</td>\n",
       "      <td>0</td>\n",
       "      <td>0</td>\n",
       "    </tr>\n",
       "    <tr>\n",
       "      <th>2</th>\n",
       "      <td>5</td>\n",
       "      <td>31</td>\n",
       "      <td>18000</td>\n",
       "      <td>10</td>\n",
       "      <td>2</td>\n",
       "      <td>0</td>\n",
       "      <td>0</td>\n",
       "    </tr>\n",
       "    <tr>\n",
       "      <th>3</th>\n",
       "      <td>7</td>\n",
       "      <td>35</td>\n",
       "      <td>20000</td>\n",
       "      <td>6</td>\n",
       "      <td>2</td>\n",
       "      <td>0</td>\n",
       "      <td>0</td>\n",
       "    </tr>\n",
       "    <tr>\n",
       "      <th>4</th>\n",
       "      <td>10</td>\n",
       "      <td>34</td>\n",
       "      <td>18500</td>\n",
       "      <td>10</td>\n",
       "      <td>2</td>\n",
       "      <td>0</td>\n",
       "      <td>0</td>\n",
       "    </tr>\n",
       "  </tbody>\n",
       "</table>\n",
       "</div>"
      ],
      "text/plain": [
       "   cust_id  age  annual_income  cust_score  age_cluster  score_cluster  \\\n",
       "0        1   20          20000           1            2              0   \n",
       "1        3   18          12350           1            2              0   \n",
       "2        5   31          18000          10            2              0   \n",
       "3        7   35          20000           6            2              0   \n",
       "4       10   34          18500          10            2              0   \n",
       "\n",
       "   income_cluster  \n",
       "0               0  \n",
       "1               0  \n",
       "2               0  \n",
       "3               0  \n",
       "4               0  "
      ]
     },
     "execution_count": 48,
     "metadata": {},
     "output_type": "execute_result"
    }
   ],
   "source": [
    "df_result.head()"
   ]
  },
  {
   "cell_type": "code",
   "execution_count": 49,
   "metadata": {
    "ExecuteTime": {
     "end_time": "2021-04-12T15:28:29.954195Z",
     "start_time": "2021-04-12T15:28:29.930194Z"
    }
   },
   "outputs": [
    {
     "data": {
      "text/html": [
       "<div>\n",
       "<style scoped>\n",
       "    .dataframe tbody tr th:only-of-type {\n",
       "        vertical-align: middle;\n",
       "    }\n",
       "\n",
       "    .dataframe tbody tr th {\n",
       "        vertical-align: top;\n",
       "    }\n",
       "\n",
       "    .dataframe thead th {\n",
       "        text-align: right;\n",
       "    }\n",
       "</style>\n",
       "<table border=\"1\" class=\"dataframe\">\n",
       "  <thead>\n",
       "    <tr style=\"text-align: right;\">\n",
       "      <th></th>\n",
       "      <th>cust_id</th>\n",
       "      <th>age</th>\n",
       "      <th>annual_income</th>\n",
       "      <th>cust_score</th>\n",
       "      <th>age_cluster</th>\n",
       "      <th>score_cluster</th>\n",
       "      <th>income_cluster</th>\n",
       "      <th>overall_score</th>\n",
       "    </tr>\n",
       "  </thead>\n",
       "  <tbody>\n",
       "    <tr>\n",
       "      <th>0</th>\n",
       "      <td>1</td>\n",
       "      <td>20</td>\n",
       "      <td>20000</td>\n",
       "      <td>1</td>\n",
       "      <td>2</td>\n",
       "      <td>0</td>\n",
       "      <td>0</td>\n",
       "      <td>2</td>\n",
       "    </tr>\n",
       "    <tr>\n",
       "      <th>1</th>\n",
       "      <td>3</td>\n",
       "      <td>18</td>\n",
       "      <td>12350</td>\n",
       "      <td>1</td>\n",
       "      <td>2</td>\n",
       "      <td>0</td>\n",
       "      <td>0</td>\n",
       "      <td>2</td>\n",
       "    </tr>\n",
       "    <tr>\n",
       "      <th>2</th>\n",
       "      <td>5</td>\n",
       "      <td>31</td>\n",
       "      <td>18000</td>\n",
       "      <td>10</td>\n",
       "      <td>2</td>\n",
       "      <td>0</td>\n",
       "      <td>0</td>\n",
       "      <td>2</td>\n",
       "    </tr>\n",
       "    <tr>\n",
       "      <th>3</th>\n",
       "      <td>7</td>\n",
       "      <td>35</td>\n",
       "      <td>20000</td>\n",
       "      <td>6</td>\n",
       "      <td>2</td>\n",
       "      <td>0</td>\n",
       "      <td>0</td>\n",
       "      <td>2</td>\n",
       "    </tr>\n",
       "    <tr>\n",
       "      <th>4</th>\n",
       "      <td>10</td>\n",
       "      <td>34</td>\n",
       "      <td>18500</td>\n",
       "      <td>10</td>\n",
       "      <td>2</td>\n",
       "      <td>0</td>\n",
       "      <td>0</td>\n",
       "      <td>2</td>\n",
       "    </tr>\n",
       "  </tbody>\n",
       "</table>\n",
       "</div>"
      ],
      "text/plain": [
       "   cust_id  age  annual_income  cust_score  age_cluster  score_cluster  \\\n",
       "0        1   20          20000           1            2              0   \n",
       "1        3   18          12350           1            2              0   \n",
       "2        5   31          18000          10            2              0   \n",
       "3        7   35          20000           6            2              0   \n",
       "4       10   34          18500          10            2              0   \n",
       "\n",
       "   income_cluster  overall_score  \n",
       "0               0              2  \n",
       "1               0              2  \n",
       "2               0              2  \n",
       "3               0              2  \n",
       "4               0              2  "
      ]
     },
     "execution_count": 49,
     "metadata": {},
     "output_type": "execute_result"
    }
   ],
   "source": [
    "df_result['overall_score'] = df_result['age_cluster'] + df_result['score_cluster'] + df_result['income_cluster']\n",
    "df_result.head()"
   ]
  },
  {
   "cell_type": "code",
   "execution_count": 50,
   "metadata": {
    "ExecuteTime": {
     "end_time": "2021-04-12T15:28:30.659790Z",
     "start_time": "2021-04-12T15:28:30.622793Z"
    }
   },
   "outputs": [
    {
     "data": {
      "text/html": [
       "<div>\n",
       "<style scoped>\n",
       "    .dataframe tbody tr th:only-of-type {\n",
       "        vertical-align: middle;\n",
       "    }\n",
       "\n",
       "    .dataframe tbody tr th {\n",
       "        vertical-align: top;\n",
       "    }\n",
       "\n",
       "    .dataframe thead th {\n",
       "        text-align: right;\n",
       "    }\n",
       "</style>\n",
       "<table border=\"1\" class=\"dataframe\">\n",
       "  <thead>\n",
       "    <tr style=\"text-align: right;\">\n",
       "      <th></th>\n",
       "      <th>age</th>\n",
       "      <th>cust_score</th>\n",
       "      <th>annual_income</th>\n",
       "    </tr>\n",
       "    <tr>\n",
       "      <th>overall_score</th>\n",
       "      <th></th>\n",
       "      <th></th>\n",
       "      <th></th>\n",
       "    </tr>\n",
       "  </thead>\n",
       "  <tbody>\n",
       "    <tr>\n",
       "      <th>0</th>\n",
       "      <td>55.666667</td>\n",
       "      <td>19.333333</td>\n",
       "      <td>23333.333333</td>\n",
       "    </tr>\n",
       "    <tr>\n",
       "      <th>1</th>\n",
       "      <td>53.411765</td>\n",
       "      <td>20.235294</td>\n",
       "      <td>31647.058824</td>\n",
       "    </tr>\n",
       "    <tr>\n",
       "      <th>2</th>\n",
       "      <td>43.609756</td>\n",
       "      <td>29.121951</td>\n",
       "      <td>32494.878049</td>\n",
       "    </tr>\n",
       "    <tr>\n",
       "      <th>3</th>\n",
       "      <td>41.936170</td>\n",
       "      <td>45.042553</td>\n",
       "      <td>48683.617021</td>\n",
       "    </tr>\n",
       "    <tr>\n",
       "      <th>4</th>\n",
       "      <td>28.244444</td>\n",
       "      <td>55.044444</td>\n",
       "      <td>50427.777778</td>\n",
       "    </tr>\n",
       "    <tr>\n",
       "      <th>5</th>\n",
       "      <td>32.125000</td>\n",
       "      <td>79.250000</td>\n",
       "      <td>57043.750000</td>\n",
       "    </tr>\n",
       "    <tr>\n",
       "      <th>6</th>\n",
       "      <td>31.636364</td>\n",
       "      <td>82.090909</td>\n",
       "      <td>77281.818182</td>\n",
       "    </tr>\n",
       "  </tbody>\n",
       "</table>\n",
       "</div>"
      ],
      "text/plain": [
       "                     age  cust_score  annual_income\n",
       "overall_score                                      \n",
       "0              55.666667   19.333333   23333.333333\n",
       "1              53.411765   20.235294   31647.058824\n",
       "2              43.609756   29.121951   32494.878049\n",
       "3              41.936170   45.042553   48683.617021\n",
       "4              28.244444   55.044444   50427.777778\n",
       "5              32.125000   79.250000   57043.750000\n",
       "6              31.636364   82.090909   77281.818182"
      ]
     },
     "execution_count": 50,
     "metadata": {},
     "output_type": "execute_result"
    }
   ],
   "source": [
    "df_result.groupby('overall_score')['age','cust_score','annual_income'].mean()"
   ]
  },
  {
   "cell_type": "code",
   "execution_count": 51,
   "metadata": {
    "ExecuteTime": {
     "end_time": "2021-04-12T15:28:34.463090Z",
     "start_time": "2021-04-12T15:28:34.432112Z"
    }
   },
   "outputs": [
    {
     "data": {
      "text/plain": [
       "0     3\n",
       "1    17\n",
       "2    41\n",
       "3    47\n",
       "4    45\n",
       "5    16\n",
       "6    11\n",
       "Name: overall_score, dtype: int64"
      ]
     },
     "execution_count": 51,
     "metadata": {},
     "output_type": "execute_result"
    }
   ],
   "source": [
    "df_result['overall_score'].value_counts().sort_index()"
   ]
  },
  {
   "cell_type": "markdown",
   "metadata": {},
   "source": [
    "- **High Value : 5 - 6**\n",
    "- **Mid Value  : 3 - 4**\n",
    "- **Low Value  : 0 - 2**"
   ]
  },
  {
   "cell_type": "code",
   "execution_count": 51,
   "metadata": {
    "ExecuteTime": {
     "end_time": "2021-04-12T15:23:54.803694Z",
     "start_time": "2021-04-12T15:23:54.344696Z"
    }
   },
   "outputs": [
    {
     "data": {
      "image/png": "[encoded data removed]",
      "text/plain": [
       "<Figure size 864x576 with 1 Axes>"
      ]
     },
     "metadata": {
      "needs_background": "light"
     },
     "output_type": "display_data"
    }
   ],
   "source": [
    "# df_ = df_result[['age']]\n",
    "\n",
    "evaluation = {}\n",
    "\n",
    "for n in range(1,11):\n",
    "    model = KMeans(n_clusters = n, \n",
    "                   init = 'k-means++',\n",
    "                   n_init = 10 ,\n",
    "                   max_iter = 300 ,\n",
    "                   random_state = 100\n",
    "                  )\n",
    "    model.fit(df_result)\n",
    "    evaluation[n] = model.inertia_\n",
    "\n",
    "# evaluating the model\n",
    "\n",
    "plt.figure(1, figsize=(12,8))\n",
    "plt.plot(list(evaluation.keys()), list(evaluation.values()), 'o')\n",
    "plt.plot(list(evaluation.keys()), list(evaluation.values()), '-', alpha = 0.5)\n",
    "plt.xlabel('Number of Clusters')\n",
    "plt.ylabel('Inertia')\n",
    "plt.show()"
   ]
  },
  {
   "cell_type": "code",
   "execution_count": 52,
   "metadata": {
    "ExecuteTime": {
     "end_time": "2021-04-12T15:23:54.849695Z",
     "start_time": "2021-04-12T15:23:54.804690Z"
    }
   },
   "outputs": [],
   "source": [
    "model = KMeans(n_clusters = 3, \n",
    "               init = 'k-means++',\n",
    "               n_init = 10 ,\n",
    "               max_iter = 300 ,\n",
    "               random_state = 100\n",
    "              )\n",
    "model.fit(df_result)\n",
    "df_result['3_cluster'] = model.predict(df_result)"
   ]
  },
  {
   "cell_type": "code",
   "execution_count": 53,
   "metadata": {
    "ExecuteTime": {
     "end_time": "2021-04-12T15:23:54.879696Z",
     "start_time": "2021-04-12T15:23:54.851690Z"
    }
   },
   "outputs": [
    {
     "data": {
      "text/html": [
       "<div>\n",
       "<style scoped>\n",
       "    .dataframe tbody tr th:only-of-type {\n",
       "        vertical-align: middle;\n",
       "    }\n",
       "\n",
       "    .dataframe tbody tr th {\n",
       "        vertical-align: top;\n",
       "    }\n",
       "\n",
       "    .dataframe thead th {\n",
       "        text-align: right;\n",
       "    }\n",
       "</style>\n",
       "<table border=\"1\" class=\"dataframe\">\n",
       "  <thead>\n",
       "    <tr style=\"text-align: right;\">\n",
       "      <th></th>\n",
       "      <th>cust_id</th>\n",
       "      <th>age</th>\n",
       "      <th>annual_income</th>\n",
       "      <th>cust_score</th>\n",
       "      <th>age_cluster</th>\n",
       "      <th>score_cluster</th>\n",
       "      <th>income_cluster</th>\n",
       "      <th>overall_score</th>\n",
       "      <th>3_cluster</th>\n",
       "    </tr>\n",
       "  </thead>\n",
       "  <tbody>\n",
       "    <tr>\n",
       "      <th>0</th>\n",
       "      <td>1</td>\n",
       "      <td>20</td>\n",
       "      <td>20000</td>\n",
       "      <td>1</td>\n",
       "      <td>2</td>\n",
       "      <td>0</td>\n",
       "      <td>0</td>\n",
       "      <td>2</td>\n",
       "      <td>1</td>\n",
       "    </tr>\n",
       "    <tr>\n",
       "      <th>1</th>\n",
       "      <td>3</td>\n",
       "      <td>18</td>\n",
       "      <td>12350</td>\n",
       "      <td>1</td>\n",
       "      <td>2</td>\n",
       "      <td>0</td>\n",
       "      <td>0</td>\n",
       "      <td>2</td>\n",
       "      <td>1</td>\n",
       "    </tr>\n",
       "    <tr>\n",
       "      <th>2</th>\n",
       "      <td>5</td>\n",
       "      <td>31</td>\n",
       "      <td>18000</td>\n",
       "      <td>10</td>\n",
       "      <td>2</td>\n",
       "      <td>0</td>\n",
       "      <td>0</td>\n",
       "      <td>2</td>\n",
       "      <td>1</td>\n",
       "    </tr>\n",
       "    <tr>\n",
       "      <th>3</th>\n",
       "      <td>7</td>\n",
       "      <td>35</td>\n",
       "      <td>20000</td>\n",
       "      <td>6</td>\n",
       "      <td>2</td>\n",
       "      <td>0</td>\n",
       "      <td>0</td>\n",
       "      <td>2</td>\n",
       "      <td>1</td>\n",
       "    </tr>\n",
       "    <tr>\n",
       "      <th>4</th>\n",
       "      <td>10</td>\n",
       "      <td>34</td>\n",
       "      <td>18500</td>\n",
       "      <td>10</td>\n",
       "      <td>2</td>\n",
       "      <td>0</td>\n",
       "      <td>0</td>\n",
       "      <td>2</td>\n",
       "      <td>1</td>\n",
       "    </tr>\n",
       "    <tr>\n",
       "      <th>...</th>\n",
       "      <td>...</td>\n",
       "      <td>...</td>\n",
       "      <td>...</td>\n",
       "      <td>...</td>\n",
       "      <td>...</td>\n",
       "      <td>...</td>\n",
       "      <td>...</td>\n",
       "      <td>...</td>\n",
       "      <td>...</td>\n",
       "    </tr>\n",
       "    <tr>\n",
       "      <th>195</th>\n",
       "      <td>64</td>\n",
       "      <td>54</td>\n",
       "      <td>80000</td>\n",
       "      <td>59</td>\n",
       "      <td>0</td>\n",
       "      <td>1</td>\n",
       "      <td>2</td>\n",
       "      <td>3</td>\n",
       "      <td>2</td>\n",
       "    </tr>\n",
       "    <tr>\n",
       "      <th>196</th>\n",
       "      <td>75</td>\n",
       "      <td>59</td>\n",
       "      <td>80000</td>\n",
       "      <td>44</td>\n",
       "      <td>0</td>\n",
       "      <td>1</td>\n",
       "      <td>2</td>\n",
       "      <td>3</td>\n",
       "      <td>2</td>\n",
       "    </tr>\n",
       "    <tr>\n",
       "      <th>197</th>\n",
       "      <td>83</td>\n",
       "      <td>67</td>\n",
       "      <td>70000</td>\n",
       "      <td>41</td>\n",
       "      <td>0</td>\n",
       "      <td>1</td>\n",
       "      <td>2</td>\n",
       "      <td>3</td>\n",
       "      <td>2</td>\n",
       "    </tr>\n",
       "    <tr>\n",
       "      <th>198</th>\n",
       "      <td>108</td>\n",
       "      <td>54</td>\n",
       "      <td>89000</td>\n",
       "      <td>46</td>\n",
       "      <td>0</td>\n",
       "      <td>1</td>\n",
       "      <td>2</td>\n",
       "      <td>3</td>\n",
       "      <td>2</td>\n",
       "    </tr>\n",
       "    <tr>\n",
       "      <th>199</th>\n",
       "      <td>161</td>\n",
       "      <td>56</td>\n",
       "      <td>79000</td>\n",
       "      <td>35</td>\n",
       "      <td>0</td>\n",
       "      <td>1</td>\n",
       "      <td>2</td>\n",
       "      <td>3</td>\n",
       "      <td>2</td>\n",
       "    </tr>\n",
       "  </tbody>\n",
       "</table>\n",
       "<p>200 rows × 9 columns</p>\n",
       "</div>"
      ],
      "text/plain": [
       "     cust_id  age  annual_income  cust_score  age_cluster  score_cluster  \\\n",
       "0          1   20          20000           1            2              0   \n",
       "1          3   18          12350           1            2              0   \n",
       "2          5   31          18000          10            2              0   \n",
       "3          7   35          20000           6            2              0   \n",
       "4         10   34          18500          10            2              0   \n",
       "..       ...  ...            ...         ...          ...            ...   \n",
       "195       64   54          80000          59            0              1   \n",
       "196       75   59          80000          44            0              1   \n",
       "197       83   67          70000          41            0              1   \n",
       "198      108   54          89000          46            0              1   \n",
       "199      161   56          79000          35            0              1   \n",
       "\n",
       "     income_cluster  overall_score  3_cluster  \n",
       "0                 0              2          1  \n",
       "1                 0              2          1  \n",
       "2                 0              2          1  \n",
       "3                 0              2          1  \n",
       "4                 0              2          1  \n",
       "..              ...            ...        ...  \n",
       "195               2              3          2  \n",
       "196               2              3          2  \n",
       "197               2              3          2  \n",
       "198               2              3          2  \n",
       "199               2              3          2  \n",
       "\n",
       "[200 rows x 9 columns]"
      ]
     },
     "execution_count": 53,
     "metadata": {},
     "output_type": "execute_result"
    }
   ],
   "source": [
    "df_result"
   ]
  },
  {
   "cell_type": "code",
   "execution_count": 54,
   "metadata": {
    "ExecuteTime": {
     "end_time": "2021-04-12T15:23:54.986694Z",
     "start_time": "2021-04-12T15:23:54.881691Z"
    }
   },
   "outputs": [
    {
     "data": {
      "text/html": [
       "<div>\n",
       "<style scoped>\n",
       "    .dataframe tbody tr th:only-of-type {\n",
       "        vertical-align: middle;\n",
       "    }\n",
       "\n",
       "    .dataframe tbody tr th {\n",
       "        vertical-align: top;\n",
       "    }\n",
       "\n",
       "    .dataframe thead tr th {\n",
       "        text-align: left;\n",
       "    }\n",
       "\n",
       "    .dataframe thead tr:last-of-type th {\n",
       "        text-align: right;\n",
       "    }\n",
       "</style>\n",
       "<table border=\"1\" class=\"dataframe\">\n",
       "  <thead>\n",
       "    <tr>\n",
       "      <th></th>\n",
       "      <th colspan=\"8\" halign=\"left\">age</th>\n",
       "      <th colspan=\"8\" halign=\"left\">cust_score</th>\n",
       "      <th colspan=\"8\" halign=\"left\">annual_income</th>\n",
       "    </tr>\n",
       "    <tr>\n",
       "      <th></th>\n",
       "      <th>count</th>\n",
       "      <th>mean</th>\n",
       "      <th>std</th>\n",
       "      <th>min</th>\n",
       "      <th>25%</th>\n",
       "      <th>50%</th>\n",
       "      <th>75%</th>\n",
       "      <th>max</th>\n",
       "      <th>count</th>\n",
       "      <th>mean</th>\n",
       "      <th>std</th>\n",
       "      <th>min</th>\n",
       "      <th>25%</th>\n",
       "      <th>50%</th>\n",
       "      <th>75%</th>\n",
       "      <th>max</th>\n",
       "      <th>count</th>\n",
       "      <th>mean</th>\n",
       "      <th>std</th>\n",
       "      <th>min</th>\n",
       "      <th>25%</th>\n",
       "      <th>50%</th>\n",
       "      <th>75%</th>\n",
       "      <th>max</th>\n",
       "    </tr>\n",
       "    <tr>\n",
       "      <th>3_cluster</th>\n",
       "      <th></th>\n",
       "      <th></th>\n",
       "      <th></th>\n",
       "      <th></th>\n",
       "      <th></th>\n",
       "      <th></th>\n",
       "      <th></th>\n",
       "      <th></th>\n",
       "      <th></th>\n",
       "      <th></th>\n",
       "      <th></th>\n",
       "      <th></th>\n",
       "      <th></th>\n",
       "      <th></th>\n",
       "      <th></th>\n",
       "      <th></th>\n",
       "      <th></th>\n",
       "      <th></th>\n",
       "      <th></th>\n",
       "      <th></th>\n",
       "      <th></th>\n",
       "      <th></th>\n",
       "      <th></th>\n",
       "      <th></th>\n",
       "    </tr>\n",
       "  </thead>\n",
       "  <tbody>\n",
       "    <tr>\n",
       "      <th>0</th>\n",
       "      <td>77.0</td>\n",
       "      <td>38.818182</td>\n",
       "      <td>14.619496</td>\n",
       "      <td>18.0</td>\n",
       "      <td>28.0</td>\n",
       "      <td>36.0</td>\n",
       "      <td>48.0</td>\n",
       "      <td>70.0</td>\n",
       "      <td>77.0</td>\n",
       "      <td>48.506494</td>\n",
       "      <td>26.044306</td>\n",
       "      <td>1.0</td>\n",
       "      <td>32.0</td>\n",
       "      <td>47.0</td>\n",
       "      <td>63.0</td>\n",
       "      <td>100.0</td>\n",
       "      <td>77.0</td>\n",
       "      <td>50518.701299</td>\n",
       "      <td>6712.764422</td>\n",
       "      <td>38900.0</td>\n",
       "      <td>45000.0</td>\n",
       "      <td>50000.0</td>\n",
       "      <td>56000.0</td>\n",
       "      <td>63000.0</td>\n",
       "    </tr>\n",
       "    <tr>\n",
       "      <th>1</th>\n",
       "      <td>83.0</td>\n",
       "      <td>39.807229</td>\n",
       "      <td>14.442027</td>\n",
       "      <td>18.0</td>\n",
       "      <td>30.0</td>\n",
       "      <td>36.0</td>\n",
       "      <td>50.0</td>\n",
       "      <td>75.0</td>\n",
       "      <td>83.0</td>\n",
       "      <td>44.072289</td>\n",
       "      <td>31.192472</td>\n",
       "      <td>1.0</td>\n",
       "      <td>18.5</td>\n",
       "      <td>43.0</td>\n",
       "      <td>68.5</td>\n",
       "      <td>100.0</td>\n",
       "      <td>83.0</td>\n",
       "      <td>23202.771084</td>\n",
       "      <td>7930.261478</td>\n",
       "      <td>10000.0</td>\n",
       "      <td>18250.0</td>\n",
       "      <td>23450.0</td>\n",
       "      <td>30000.0</td>\n",
       "      <td>35000.0</td>\n",
       "    </tr>\n",
       "    <tr>\n",
       "      <th>2</th>\n",
       "      <td>40.0</td>\n",
       "      <td>39.750000</td>\n",
       "      <td>11.733690</td>\n",
       "      <td>19.0</td>\n",
       "      <td>31.0</td>\n",
       "      <td>38.5</td>\n",
       "      <td>47.5</td>\n",
       "      <td>67.0</td>\n",
       "      <td>40.0</td>\n",
       "      <td>49.750000</td>\n",
       "      <td>29.787926</td>\n",
       "      <td>2.0</td>\n",
       "      <td>24.5</td>\n",
       "      <td>47.0</td>\n",
       "      <td>75.0</td>\n",
       "      <td>95.0</td>\n",
       "      <td>40.0</td>\n",
       "      <td>75776.250000</td>\n",
       "      <td>9691.405044</td>\n",
       "      <td>65000.0</td>\n",
       "      <td>67575.0</td>\n",
       "      <td>71000.0</td>\n",
       "      <td>89000.0</td>\n",
       "      <td>90000.0</td>\n",
       "    </tr>\n",
       "  </tbody>\n",
       "</table>\n",
       "</div>"
      ],
      "text/plain": [
       "            age                                                      \\\n",
       "          count       mean        std   min   25%   50%   75%   max   \n",
       "3_cluster                                                             \n",
       "0          77.0  38.818182  14.619496  18.0  28.0  36.0  48.0  70.0   \n",
       "1          83.0  39.807229  14.442027  18.0  30.0  36.0  50.0  75.0   \n",
       "2          40.0  39.750000  11.733690  19.0  31.0  38.5  47.5  67.0   \n",
       "\n",
       "          cust_score                                                      \\\n",
       "               count       mean        std  min   25%   50%   75%    max   \n",
       "3_cluster                                                                  \n",
       "0               77.0  48.506494  26.044306  1.0  32.0  47.0  63.0  100.0   \n",
       "1               83.0  44.072289  31.192472  1.0  18.5  43.0  68.5  100.0   \n",
       "2               40.0  49.750000  29.787926  2.0  24.5  47.0  75.0   95.0   \n",
       "\n",
       "          annual_income                                                        \\\n",
       "                  count          mean          std      min      25%      50%   \n",
       "3_cluster                                                                       \n",
       "0                  77.0  50518.701299  6712.764422  38900.0  45000.0  50000.0   \n",
       "1                  83.0  23202.771084  7930.261478  10000.0  18250.0  23450.0   \n",
       "2                  40.0  75776.250000  9691.405044  65000.0  67575.0  71000.0   \n",
       "\n",
       "                             \n",
       "               75%      max  \n",
       "3_cluster                    \n",
       "0          56000.0  63000.0  \n",
       "1          30000.0  35000.0  \n",
       "2          89000.0  90000.0  "
      ]
     },
     "execution_count": 54,
     "metadata": {},
     "output_type": "execute_result"
    }
   ],
   "source": [
    "df_result.groupby('3_cluster').describe()[['age','cust_score','annual_income']]"
   ]
  },
  {
   "cell_type": "code",
   "execution_count": null,
   "metadata": {},
   "outputs": [],
   "source": []
  }
 ],
 "metadata": {
  "kernelspec": {
   "display_name": "Python 3",
   "language": "python",
   "name": "python3"
  },
  "language_info": {
   "codemirror_mode": {
    "name": "ipython",
    "version": 3
   },
   "file_extension": ".py",
   "mimetype": "text/x-python",
   "name": "python",
   "nbconvert_exporter": "python",
   "pygments_lexer": "ipython3",
   "version": "3.7.6"
  },
  "toc": {
   "base_numbering": 1,
   "nav_menu": {},
   "number_sections": true,
   "sideBar": true,
   "skip_h1_title": false,
   "title_cell": "Table of Contents",
   "title_sidebar": "Contents",
   "toc_cell": false,
   "toc_position": {},
   "toc_section_display": true,
   "toc_window_display": false
  },
  "varInspector": {
   "cols": {
    "lenName": 16,
    "lenType": 16,
    "lenVar": 40
   },
   "kernels_config": {
    "python": {
     "delete_cmd_postfix": "",
     "delete_cmd_prefix": "del ",
     "library": "var_list.py",
     "varRefreshCmd": "print(var_dic_list())"
    },
    "r": {
     "delete_cmd_postfix": ") ",
     "delete_cmd_prefix": "rm(",
     "library": "var_list.r",
     "varRefreshCmd": "cat(var_dic_list()) "
    }
   },
   "types_to_exclude": [
    "module",
    "function",
    "builtin_function_or_method",
    "instance",
    "_Feature"
   ],
   "window_display": false
  }
 },
 "nbformat": 4,
 "nbformat_minor": 4
}
