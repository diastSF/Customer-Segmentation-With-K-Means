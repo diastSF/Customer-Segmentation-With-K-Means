{
 "cells": [
  {
   "cell_type": "code",
   "execution_count": 1,
   "metadata": {
    "ExecuteTime": {
     "end_time": "2021-04-12T15:30:33.681097Z",
     "start_time": "2021-04-12T15:30:32.362719Z"
    }
   },
   "outputs": [],
   "source": [
    "import numpy as np\n",
    "import pandas as pd\n",
    "import datetime as dt\n",
    "from scipy import stats\n",
    "import seaborn as sns\n",
    "import matplotlib\n",
    "import matplotlib.pyplot as plt\n",
    "\n",
    "import warnings\n",
    "warnings.filterwarnings('ignore')\n",
    "%matplotlib inline\n",
    "\n",
    "font = {'family' : 'sans-serif',\n",
    "        'size'   : 16}\n",
    "\n",
    "matplotlib.rc('font', **font)\n",
    "\n",
    "pd.set_option('display.max_columns', None)"
   ]
  },
  {
   "cell_type": "code",
   "execution_count": 2,
   "metadata": {
    "ExecuteTime": {
     "end_time": "2021-04-12T15:30:33.727058Z",
     "start_time": "2021-04-12T15:30:33.688064Z"
    }
   },
   "outputs": [
    {
     "data": {
      "text/html": [
       "<div>\n",
       "<style scoped>\n",
       "    .dataframe tbody tr th:only-of-type {\n",
       "        vertical-align: middle;\n",
       "    }\n",
       "\n",
       "    .dataframe tbody tr th {\n",
       "        vertical-align: top;\n",
       "    }\n",
       "\n",
       "    .dataframe thead th {\n",
       "        text-align: right;\n",
       "    }\n",
       "</style>\n",
       "<table border=\"1\" class=\"dataframe\">\n",
       "  <thead>\n",
       "    <tr style=\"text-align: right;\">\n",
       "      <th></th>\n",
       "      <th>CustID</th>\n",
       "      <th>Gender</th>\n",
       "      <th>Age</th>\n",
       "      <th>AnnualIncome</th>\n",
       "      <th>CustScore (1-100)</th>\n",
       "      <th>Hometown</th>\n",
       "      <th>FavoriteTime</th>\n",
       "    </tr>\n",
       "  </thead>\n",
       "  <tbody>\n",
       "    <tr>\n",
       "      <th>0</th>\n",
       "      <td>1</td>\n",
       "      <td>Female</td>\n",
       "      <td>20</td>\n",
       "      <td>20000</td>\n",
       "      <td>1</td>\n",
       "      <td>Jakarta</td>\n",
       "      <td>Weekend</td>\n",
       "    </tr>\n",
       "    <tr>\n",
       "      <th>1</th>\n",
       "      <td>2</td>\n",
       "      <td>Male</td>\n",
       "      <td>21</td>\n",
       "      <td>34000</td>\n",
       "      <td>81</td>\n",
       "      <td>Jakarta</td>\n",
       "      <td>Weekend</td>\n",
       "    </tr>\n",
       "    <tr>\n",
       "      <th>2</th>\n",
       "      <td>3</td>\n",
       "      <td>Female</td>\n",
       "      <td>18</td>\n",
       "      <td>12350</td>\n",
       "      <td>1</td>\n",
       "      <td>Jakarta</td>\n",
       "      <td>Weekend</td>\n",
       "    </tr>\n",
       "    <tr>\n",
       "      <th>3</th>\n",
       "      <td>4</td>\n",
       "      <td>Male</td>\n",
       "      <td>45</td>\n",
       "      <td>12000</td>\n",
       "      <td>1</td>\n",
       "      <td>Bandung</td>\n",
       "      <td>Weekday</td>\n",
       "    </tr>\n",
       "    <tr>\n",
       "      <th>4</th>\n",
       "      <td>5</td>\n",
       "      <td>Male</td>\n",
       "      <td>31</td>\n",
       "      <td>18000</td>\n",
       "      <td>10</td>\n",
       "      <td>Bandung</td>\n",
       "      <td>Weekend</td>\n",
       "    </tr>\n",
       "  </tbody>\n",
       "</table>\n",
       "</div>"
      ],
      "text/plain": [
       "   CustID  Gender  Age  AnnualIncome  CustScore (1-100) Hometown FavoriteTime\n",
       "0       1  Female   20         20000                  1  Jakarta      Weekend\n",
       "1       2    Male   21         34000                 81  Jakarta      Weekend\n",
       "2       3  Female   18         12350                  1  Jakarta      Weekend\n",
       "3       4    Male   45         12000                  1  Bandung      Weekday\n",
       "4       5    Male   31         18000                 10  Bandung      Weekend"
      ]
     },
     "execution_count": 2,
     "metadata": {},
     "output_type": "execute_result"
    }
   ],
   "source": [
    "df = pd.read_csv('customer_segmentation_data.csv')\n",
    "df.head()"
   ]
  },
  {
   "cell_type": "markdown",
   "metadata": {},
   "source": [
    "First, I want to simplify our column names so we can access easily later."
   ]
  },
  {
   "cell_type": "code",
   "execution_count": 3,
   "metadata": {
    "ExecuteTime": {
     "end_time": "2021-04-12T15:30:33.742057Z",
     "start_time": "2021-04-12T15:30:33.731054Z"
    }
   },
   "outputs": [],
   "source": [
    "df.columns = ['cust_id','gender','age','annual_income','cust_score','hometown','favorite_time']"
   ]
  },
  {
   "cell_type": "code",
   "execution_count": 4,
   "metadata": {
    "ExecuteTime": {
     "end_time": "2021-04-12T15:30:33.774086Z",
     "start_time": "2021-04-12T15:30:33.744052Z"
    }
   },
   "outputs": [
    {
     "name": "stdout",
     "output_type": "stream",
     "text": [
      "<class 'pandas.core.frame.DataFrame'>\n",
      "RangeIndex: 200 entries, 0 to 199\n",
      "Data columns (total 7 columns):\n",
      " #   Column         Non-Null Count  Dtype \n",
      "---  ------         --------------  ----- \n",
      " 0   cust_id        200 non-null    int64 \n",
      " 1   gender         200 non-null    object\n",
      " 2   age            200 non-null    int64 \n",
      " 3   annual_income  200 non-null    int64 \n",
      " 4   cust_score     200 non-null    int64 \n",
      " 5   hometown       200 non-null    object\n",
      " 6   favorite_time  200 non-null    object\n",
      "dtypes: int64(4), object(3)\n",
      "memory usage: 11.1+ KB\n"
     ]
    }
   ],
   "source": [
    "df.info()"
   ]
  },
  {
   "cell_type": "markdown",
   "metadata": {},
   "source": [
    "Fortunately, there is no any NULL value in our data set."
   ]
  },
  {
   "cell_type": "markdown",
   "metadata": {},
   "source": [
    "As we can see that we have 3 numerical variables, 3 categorical variables, and 1 unique values column."
   ]
  },
  {
   "cell_type": "code",
   "execution_count": 5,
   "metadata": {
    "ExecuteTime": {
     "end_time": "2021-04-12T15:30:33.790080Z",
     "start_time": "2021-04-12T15:30:33.777080Z"
    }
   },
   "outputs": [
    {
     "data": {
      "text/plain": [
       "cust_id          200\n",
       "gender             2\n",
       "age               50\n",
       "annual_income     94\n",
       "cust_score        81\n",
       "hometown           7\n",
       "favorite_time      2\n",
       "dtype: int64"
      ]
     },
     "execution_count": 5,
     "metadata": {},
     "output_type": "execute_result"
    }
   ],
   "source": [
    "df.nunique()"
   ]
  },
  {
   "cell_type": "code",
   "execution_count": 6,
   "metadata": {
    "ExecuteTime": {
     "end_time": "2021-04-12T15:30:33.822081Z",
     "start_time": "2021-04-12T15:30:33.793079Z"
    }
   },
   "outputs": [
    {
     "data": {
      "text/html": [
       "<div>\n",
       "<style scoped>\n",
       "    .dataframe tbody tr th:only-of-type {\n",
       "        vertical-align: middle;\n",
       "    }\n",
       "\n",
       "    .dataframe tbody tr th {\n",
       "        vertical-align: top;\n",
       "    }\n",
       "\n",
       "    .dataframe thead th {\n",
       "        text-align: right;\n",
       "    }\n",
       "</style>\n",
       "<table border=\"1\" class=\"dataframe\">\n",
       "  <thead>\n",
       "    <tr style=\"text-align: right;\">\n",
       "      <th></th>\n",
       "      <th>count</th>\n",
       "      <th>mean</th>\n",
       "      <th>std</th>\n",
       "      <th>min</th>\n",
       "      <th>25%</th>\n",
       "      <th>50%</th>\n",
       "      <th>75%</th>\n",
       "      <th>max</th>\n",
       "    </tr>\n",
       "  </thead>\n",
       "  <tbody>\n",
       "    <tr>\n",
       "      <th>cust_id</th>\n",
       "      <td>200.0</td>\n",
       "      <td>100.500</td>\n",
       "      <td>57.879185</td>\n",
       "      <td>1.0</td>\n",
       "      <td>50.75</td>\n",
       "      <td>100.5</td>\n",
       "      <td>150.25</td>\n",
       "      <td>200.0</td>\n",
       "    </tr>\n",
       "    <tr>\n",
       "      <th>age</th>\n",
       "      <td>200.0</td>\n",
       "      <td>39.415</td>\n",
       "      <td>13.956241</td>\n",
       "      <td>18.0</td>\n",
       "      <td>30.00</td>\n",
       "      <td>36.0</td>\n",
       "      <td>49.00</td>\n",
       "      <td>75.0</td>\n",
       "    </tr>\n",
       "    <tr>\n",
       "      <th>annual_income</th>\n",
       "      <td>200.0</td>\n",
       "      <td>44234.100</td>\n",
       "      <td>21477.387318</td>\n",
       "      <td>10000.0</td>\n",
       "      <td>24545.00</td>\n",
       "      <td>45000.0</td>\n",
       "      <td>60000.00</td>\n",
       "      <td>90000.0</td>\n",
       "    </tr>\n",
       "    <tr>\n",
       "      <th>cust_score</th>\n",
       "      <td>200.0</td>\n",
       "      <td>46.915</td>\n",
       "      <td>28.979941</td>\n",
       "      <td>1.0</td>\n",
       "      <td>22.00</td>\n",
       "      <td>46.0</td>\n",
       "      <td>69.00</td>\n",
       "      <td>100.0</td>\n",
       "    </tr>\n",
       "  </tbody>\n",
       "</table>\n",
       "</div>"
      ],
      "text/plain": [
       "               count       mean           std      min       25%      50%  \\\n",
       "cust_id        200.0    100.500     57.879185      1.0     50.75    100.5   \n",
       "age            200.0     39.415     13.956241     18.0     30.00     36.0   \n",
       "annual_income  200.0  44234.100  21477.387318  10000.0  24545.00  45000.0   \n",
       "cust_score     200.0     46.915     28.979941      1.0     22.00     46.0   \n",
       "\n",
       "                    75%      max  \n",
       "cust_id          150.25    200.0  \n",
       "age               49.00     75.0  \n",
       "annual_income  60000.00  90000.0  \n",
       "cust_score        69.00    100.0  "
      ]
     },
     "execution_count": 6,
     "metadata": {},
     "output_type": "execute_result"
    }
   ],
   "source": [
    "df.describe().transpose()"
   ]
  },
  {
   "cell_type": "markdown",
   "metadata": {},
   "source": [
    "# Exploring The Data"
   ]
  },
  {
   "cell_type": "code",
   "execution_count": 7,
   "metadata": {
    "ExecuteTime": {
     "end_time": "2021-04-12T15:30:34.123932Z",
     "start_time": "2021-04-12T15:30:33.826081Z"
    }
   },
   "outputs": [
    {
     "data": {
      "image/png": "[encoded data removed]",
      "text/plain": [
       "<Figure size 864x576 with 1 Axes>"
      ]
     },
     "metadata": {
      "needs_background": "light"
     },
     "output_type": "display_data"
    }
   ],
   "source": [
    "fig, ax = plt.subplots(figsize=(12,8))\n",
    "\n",
    "rects1 = ax.bar([0], list(df[df['gender']=='Female'].count()), label='Female', color ='#f99af6')\n",
    "rects2 = ax.bar([1], list(df[df['gender']=='Male'].count()), label='Male', color = '#286fb0')\n",
    "\n",
    "ax.set_title('Distribution of Customers By Gender')\n",
    "ax.set_ylabel('Num of Customers')\n",
    "ax.set_xlabel('Gender')\n",
    "ax.set_xticks([0,1])\n",
    "ax.set_xticklabels(['Female','Male'])\n",
    "ax.legend()\n",
    "\n",
    "ax.bar_label(rects1, padding=3)\n",
    "ax.bar_label(rects2, padding=3)\n",
    "\n",
    "fig.tight_layout()\n",
    "\n",
    "plt.show()\n",
    "\n"
   ]
  },
  {
   "cell_type": "markdown",
   "metadata": {},
   "source": [
    "There are slightly more female than male in this data set. Maybe itu could be a significant element in our customer segmentation later."
   ]
  },
  {
   "cell_type": "markdown",
   "metadata": {},
   "source": [
    "What about age?"
   ]
  },
  {
   "cell_type": "code",
   "execution_count": 8,
   "metadata": {
    "ExecuteTime": {
     "end_time": "2021-04-12T15:30:34.347443Z",
     "start_time": "2021-04-12T15:30:34.126928Z"
    }
   },
   "outputs": [
    {
     "data": {
      "image/png": "[encoded data removed]",
      "text/plain": [
       "<Figure size 864x576 with 1 Axes>"
      ]
     },
     "metadata": {
      "needs_background": "light"
     },
     "output_type": "display_data"
    }
   ],
   "source": [
    "fig, ax = plt.subplots(figsize=(12,8))\n",
    "\n",
    "n, bar_labelins, patches = ax.hist(df['age'])\n",
    "\n",
    "ax.set_title('Distribution of Age')\n",
    "ax.set_ylabel('Frequency')\n",
    "ax.set_xlabel('Age')\n",
    "\n",
    "for rect in patches:\n",
    "    y_value = rect.get_height()\n",
    "    x_value = rect.get_x() + rect.get_width() / 2\n",
    "    \n",
    "    space  = 5\n",
    "    va = 'bottom'\n",
    "    label = str(np.round(y_value, 3))\n",
    "    \n",
    "    plt.annotate(\n",
    "        label ,\n",
    "        (x_value, y_value) ,\n",
    "        xytext = (0, space) ,\n",
    "        textcoords = 'offset points' ,\n",
    "        ha = 'center' ,\n",
    "        va=va\n",
    "    )\n",
    "\n",
    "fig.tight_layout()\n",
    "\n",
    "plt.show()\n"
   ]
  },
  {
   "cell_type": "markdown",
   "metadata": {},
   "source": [
    "The ages are mostly between 20 and 40. There ar less older customers, so the distribution is rigth-skewed because it has longer right tail. It shows us what our type of demographic looks like."
   ]
  },
  {
   "cell_type": "code",
   "execution_count": 9,
   "metadata": {
    "ExecuteTime": {
     "end_time": "2021-04-12T15:30:34.647446Z",
     "start_time": "2021-04-12T15:30:34.350445Z"
    },
    "scrolled": false
   },
   "outputs": [
    {
     "data": {
      "image/png": "[encoded data removed]",
      "text/plain": [
       "<Figure size 864x576 with 1 Axes>"
      ]
     },
     "metadata": {
      "needs_background": "light"
     },
     "output_type": "display_data"
    }
   ],
   "source": [
    "fig, ax = plt.subplots(figsize=(12,8))\n",
    "\n",
    "nf, bar_labelins_f, patches_f = ax.hist(df[df['gender']=='Female']['age'], color = '#f99af6', label = 'Female', alpha = .5)\n",
    "nm, bar_labelins_m, patches_m = ax.hist(df[df['gender']=='Male']['age'], color = '#286fb0', label = 'Male', alpha = .5)\n",
    "\n",
    "ax.set_title('Distribution of Age by Gender')\n",
    "ax.set_ylabel('Frequency')\n",
    "ax.set_xlabel('Age')\n",
    "\n",
    "for patches in [patches_f, patches_m]:\n",
    "    for rect in patches:\n",
    "        y_value = rect.get_height()\n",
    "        x_value = rect.get_x() + rect.get_width() / 2\n",
    "\n",
    "        space  = 5\n",
    "        va = 'bottom'\n",
    "        label = str(np.round(y_value, 3))\n",
    "\n",
    "        plt.annotate(\n",
    "            label ,\n",
    "            (x_value, y_value) ,\n",
    "            xytext = (0, space) ,\n",
    "            textcoords = 'offset points' ,\n",
    "            ha = 'center' ,\n",
    "            va=va\n",
    "        )\n",
    "\n",
    "fig.tight_layout()\n",
    "\n",
    "plt.show()"
   ]
  },
  {
   "cell_type": "markdown",
   "metadata": {},
   "source": [
    "The distribution of age between Female and Male Customers are slightly same. As we can see the spike around the age 29 - 35 in both Female and Male Distributions. But there is a significant amount of senior Male in the 59 - 75 year old bucket."
   ]
  },
  {
   "cell_type": "markdown",
   "metadata": {},
   "source": [
    "What about income?"
   ]
  },
  {
   "cell_type": "code",
   "execution_count": 10,
   "metadata": {
    "ExecuteTime": {
     "end_time": "2021-04-12T15:30:34.679445Z",
     "start_time": "2021-04-12T15:30:34.649444Z"
    }
   },
   "outputs": [
    {
     "data": {
      "text/plain": [
       "count      200.000000\n",
       "mean     44234.100000\n",
       "std      21477.387318\n",
       "min      10000.000000\n",
       "25%      24545.000000\n",
       "50%      45000.000000\n",
       "75%      60000.000000\n",
       "max      90000.000000\n",
       "Name: annual_income, dtype: float64"
      ]
     },
     "execution_count": 10,
     "metadata": {},
     "output_type": "execute_result"
    }
   ],
   "source": [
    "df.describe().transpose().loc['annual_income']"
   ]
  },
  {
   "cell_type": "markdown",
   "metadata": {},
   "source": [
    "As we can see the range of annual income are between 10.000 and 90.000"
   ]
  },
  {
   "cell_type": "code",
   "execution_count": 11,
   "metadata": {
    "ExecuteTime": {
     "end_time": "2021-04-12T15:30:34.997448Z",
     "start_time": "2021-04-12T15:30:34.682445Z"
    }
   },
   "outputs": [
    {
     "data": {
      "image/png": "[encoded data removed]",
      "text/plain": [
       "<Figure size 864x576 with 1 Axes>"
      ]
     },
     "metadata": {
      "needs_background": "light"
     },
     "output_type": "display_data"
    }
   ],
   "source": [
    "fig, ax = plt.subplots(figsize=(12,8))\n",
    "\n",
    "n, bar_labelins, patches = ax.hist(df['annual_income'], )\n",
    "\n",
    "ax.set_title('Distribution of Annual Income')\n",
    "ax.set_ylabel('Frequency')\n",
    "ax.set_xlabel('Annual Income')\n",
    "\n",
    "for rect in patches:\n",
    "    y_value = rect.get_height()\n",
    "    x_value = rect.get_x() + rect.get_width() / 2\n",
    "    \n",
    "    space  = 5\n",
    "    va = 'bottom'\n",
    "    label = str(np.round(y_value, 3))\n",
    "    \n",
    "    plt.annotate(\n",
    "        label ,\n",
    "        (x_value, y_value) ,\n",
    "        xytext = (0, space) ,\n",
    "        textcoords = 'offset points' ,\n",
    "        ha = 'center' ,\n",
    "        va=va\n",
    "    )\n",
    "\n",
    "fig.tight_layout()\n",
    "\n",
    "plt.show()\n"
   ]
  },
  {
   "cell_type": "markdown",
   "metadata": {},
   "source": [
    "Much of the income separate into two buckets, around 20,000 and around 45,000. Does the any other variables impact this?"
   ]
  },
  {
   "cell_type": "code",
   "execution_count": 12,
   "metadata": {
    "ExecuteTime": {
     "end_time": "2021-04-12T15:30:35.405443Z",
     "start_time": "2021-04-12T15:30:34.999445Z"
    }
   },
   "outputs": [
    {
     "data": {
      "image/png": "[encoded data removed]",
      "text/plain": [
       "<Figure size 864x576 with 1 Axes>"
      ]
     },
     "metadata": {
      "needs_background": "light"
     },
     "output_type": "display_data"
    }
   ],
   "source": [
    "fig, ax = plt.subplots(figsize=(12,8))\n",
    "\n",
    "nf, bar_labelins_f, patches_f = ax.hist(df[df['gender']=='Female']['annual_income'], color = '#f99af6', label = 'Female', alpha = .5)\n",
    "nm, bar_labelins_m, patches_m = ax.hist(df[df['gender']=='Male']['annual_income'], color = '#286fb0', label = 'Male', alpha = .5)\n",
    "\n",
    "ax.set_title('Distribution of Annual Income by Gender')\n",
    "ax.set_ylabel('Frequency')\n",
    "ax.set_xlabel('Annual Income')\n",
    "\n",
    "for patches in [patches_f, patches_m]:\n",
    "    for rect in patches:\n",
    "        y_value = rect.get_height()\n",
    "        x_value = rect.get_x() + rect.get_width() / 2\n",
    "\n",
    "        space  = 5\n",
    "        va = 'bottom'\n",
    "        label = str(np.round(y_value, 3))\n",
    "\n",
    "        plt.annotate(\n",
    "            label ,\n",
    "            (x_value, y_value) ,\n",
    "            xytext = (0, space) ,\n",
    "            textcoords = 'offset points' ,\n",
    "            ha = 'center' ,\n",
    "            va=va\n",
    "        )\n",
    "\n",
    "fig.tight_layout()\n",
    "\n",
    "plt.legend()\n",
    "\n",
    "plt.show()"
   ]
  },
  {
   "cell_type": "code",
   "execution_count": 13,
   "metadata": {
    "ExecuteTime": {
     "end_time": "2021-04-12T15:30:35.437449Z",
     "start_time": "2021-04-12T15:30:35.407444Z"
    }
   },
   "outputs": [
    {
     "data": {
      "text/html": [
       "<div>\n",
       "<style scoped>\n",
       "    .dataframe tbody tr th:only-of-type {\n",
       "        vertical-align: middle;\n",
       "    }\n",
       "\n",
       "    .dataframe tbody tr th {\n",
       "        vertical-align: top;\n",
       "    }\n",
       "\n",
       "    .dataframe thead th {\n",
       "        text-align: right;\n",
       "    }\n",
       "</style>\n",
       "<table border=\"1\" class=\"dataframe\">\n",
       "  <thead>\n",
       "    <tr style=\"text-align: right;\">\n",
       "      <th></th>\n",
       "      <th>female</th>\n",
       "      <th>male</th>\n",
       "    </tr>\n",
       "  </thead>\n",
       "  <tbody>\n",
       "    <tr>\n",
       "      <th>count</th>\n",
       "      <td>109.000000</td>\n",
       "      <td>91.000000</td>\n",
       "    </tr>\n",
       "    <tr>\n",
       "      <th>mean</th>\n",
       "      <td>42972.110092</td>\n",
       "      <td>45745.714286</td>\n",
       "    </tr>\n",
       "    <tr>\n",
       "      <th>std</th>\n",
       "      <td>21230.180783</td>\n",
       "      <td>21790.671916</td>\n",
       "    </tr>\n",
       "    <tr>\n",
       "      <th>min</th>\n",
       "      <td>10500.000000</td>\n",
       "      <td>10000.000000</td>\n",
       "    </tr>\n",
       "    <tr>\n",
       "      <th>25%</th>\n",
       "      <td>23700.000000</td>\n",
       "      <td>29000.000000</td>\n",
       "    </tr>\n",
       "    <tr>\n",
       "      <th>50%</th>\n",
       "      <td>43000.000000</td>\n",
       "      <td>45000.000000</td>\n",
       "    </tr>\n",
       "    <tr>\n",
       "      <th>75%</th>\n",
       "      <td>56000.000000</td>\n",
       "      <td>62000.000000</td>\n",
       "    </tr>\n",
       "    <tr>\n",
       "      <th>max</th>\n",
       "      <td>90000.000000</td>\n",
       "      <td>90000.000000</td>\n",
       "    </tr>\n",
       "  </tbody>\n",
       "</table>\n",
       "</div>"
      ],
      "text/plain": [
       "             female          male\n",
       "count    109.000000     91.000000\n",
       "mean   42972.110092  45745.714286\n",
       "std    21230.180783  21790.671916\n",
       "min    10500.000000  10000.000000\n",
       "25%    23700.000000  29000.000000\n",
       "50%    43000.000000  45000.000000\n",
       "75%    56000.000000  62000.000000\n",
       "max    90000.000000  90000.000000"
      ]
     },
     "execution_count": 13,
     "metadata": {},
     "output_type": "execute_result"
    }
   ],
   "source": [
    "df_income_gender = pd.DataFrame([df[df['gender']=='Female']['annual_income'],df[df['gender']=='Male']['annual_income']]).transpose()\n",
    "df_income_gender.columns = ['female','male']\n",
    "df_income_gender.describe()"
   ]
  },
  {
   "cell_type": "markdown",
   "metadata": {},
   "source": [
    "The distribution of Annual Income by Gender has no significance diffirence on both Female and Male Distributions. It is also showed at the mean and median of both Female Distribution and Male Distribution, which are similar on both median and mean."
   ]
  },
  {
   "cell_type": "markdown",
   "metadata": {},
   "source": [
    "But, eventhough the earnings of Female and Male are not different, are their spending also similar?"
   ]
  },
  {
   "cell_type": "code",
   "execution_count": 14,
   "metadata": {
    "ExecuteTime": {
     "end_time": "2021-04-12T15:30:35.757449Z",
     "start_time": "2021-04-12T15:30:35.439445Z"
    }
   },
   "outputs": [
    {
     "data": {
      "image/png": "[encoded data removed]",
      "text/plain": [
       "<Figure size 864x576 with 1 Axes>"
      ]
     },
     "metadata": {
      "needs_background": "light"
     },
     "output_type": "display_data"
    }
   ],
   "source": [
    "fig, ax = plt.subplots(figsize=(12,8))\n",
    "\n",
    "nf, bar_labelins_f, patches_f = ax.hist(df[df['gender']=='Female']['cust_score'], bins= 8, color = '#f99af6', label = 'Female', alpha = .5)\n",
    "nm, bar_labelins_m, patches_m = ax.hist(df[df['gender']=='Male']['cust_score'], bins = 8, color = '#286fb0', label = 'Male', alpha = .5)\n",
    "\n",
    "ax.set_title('Distribution of Customer Score by Gender')\n",
    "ax.set_ylabel('Frequency')\n",
    "ax.set_xlabel('Customer Score')\n",
    "\n",
    "for patches in [patches_f, patches_m]:\n",
    "    for rect in patches:\n",
    "        y_value = rect.get_height()\n",
    "        x_value = rect.get_x() + rect.get_width() / 2\n",
    "\n",
    "        space  = 5\n",
    "        va = 'bottom'\n",
    "        label = str(np.round(y_value, 3))\n",
    "\n",
    "        plt.annotate(\n",
    "            label ,\n",
    "            (x_value, y_value) ,\n",
    "            xytext = (0, space) ,\n",
    "            textcoords = 'offset points' ,\n",
    "            ha = 'center' ,\n",
    "            va=va\n",
    "        )\n",
    "\n",
    "fig.tight_layout()\n",
    "\n",
    "plt.legend()\n",
    "\n",
    "plt.show()"
   ]
  },
  {
   "cell_type": "code",
   "execution_count": 15,
   "metadata": {
    "ExecuteTime": {
     "end_time": "2021-04-12T15:30:35.805443Z",
     "start_time": "2021-04-12T15:30:35.760447Z"
    }
   },
   "outputs": [
    {
     "data": {
      "text/html": [
       "<div>\n",
       "<style scoped>\n",
       "    .dataframe tbody tr th:only-of-type {\n",
       "        vertical-align: middle;\n",
       "    }\n",
       "\n",
       "    .dataframe tbody tr th {\n",
       "        vertical-align: top;\n",
       "    }\n",
       "\n",
       "    .dataframe thead th {\n",
       "        text-align: right;\n",
       "    }\n",
       "</style>\n",
       "<table border=\"1\" class=\"dataframe\">\n",
       "  <thead>\n",
       "    <tr style=\"text-align: right;\">\n",
       "      <th></th>\n",
       "      <th>female</th>\n",
       "      <th>male</th>\n",
       "    </tr>\n",
       "  </thead>\n",
       "  <tbody>\n",
       "    <tr>\n",
       "      <th>count</th>\n",
       "      <td>109.000000</td>\n",
       "      <td>91.000000</td>\n",
       "    </tr>\n",
       "    <tr>\n",
       "      <th>mean</th>\n",
       "      <td>48.990826</td>\n",
       "      <td>44.428571</td>\n",
       "    </tr>\n",
       "    <tr>\n",
       "      <th>std</th>\n",
       "      <td>26.781176</td>\n",
       "      <td>31.381928</td>\n",
       "    </tr>\n",
       "    <tr>\n",
       "      <th>min</th>\n",
       "      <td>1.000000</td>\n",
       "      <td>1.000000</td>\n",
       "    </tr>\n",
       "    <tr>\n",
       "      <th>25%</th>\n",
       "      <td>28.000000</td>\n",
       "      <td>14.000000</td>\n",
       "    </tr>\n",
       "    <tr>\n",
       "      <th>50%</th>\n",
       "      <td>46.000000</td>\n",
       "      <td>45.000000</td>\n",
       "    </tr>\n",
       "    <tr>\n",
       "      <th>75%</th>\n",
       "      <td>71.000000</td>\n",
       "      <td>66.500000</td>\n",
       "    </tr>\n",
       "    <tr>\n",
       "      <th>max</th>\n",
       "      <td>100.000000</td>\n",
       "      <td>100.000000</td>\n",
       "    </tr>\n",
       "  </tbody>\n",
       "</table>\n",
       "</div>"
      ],
      "text/plain": [
       "           female        male\n",
       "count  109.000000   91.000000\n",
       "mean    48.990826   44.428571\n",
       "std     26.781176   31.381928\n",
       "min      1.000000    1.000000\n",
       "25%     28.000000   14.000000\n",
       "50%     46.000000   45.000000\n",
       "75%     71.000000   66.500000\n",
       "max    100.000000  100.000000"
      ]
     },
     "execution_count": 15,
     "metadata": {},
     "output_type": "execute_result"
    }
   ],
   "source": [
    "df_income_gender = pd.DataFrame([df[df['gender']=='Female']['cust_score'],df[df['gender']=='Male']['cust_score']]).transpose()\n",
    "df_income_gender.columns = ['female','male']\n",
    "df_income_gender.describe()"
   ]
  },
  {
   "cell_type": "markdown",
   "metadata": {},
   "source": [
    "Female and Male Customers have a similar on their spendings. They have similar average Customer Score by their purchase behavior, that the Female Avg. is 48.99 and the Male Avg. is 44.43.\n",
    "\n",
    "I think Gender in this data set doesn't give any impact neither to income nor score."
   ]
  },
  {
   "cell_type": "markdown",
   "metadata": {},
   "source": [
    "How about Favorite Time For Shopping? Does it affects the Customer Score?"
   ]
  },
  {
   "cell_type": "code",
   "execution_count": 16,
   "metadata": {
    "ExecuteTime": {
     "end_time": "2021-04-12T15:30:36.169444Z",
     "start_time": "2021-04-12T15:30:35.809445Z"
    }
   },
   "outputs": [
    {
     "data": {
      "image/png": "[encoded data removed]",
      "text/plain": [
       "<Figure size 864x576 with 1 Axes>"
      ]
     },
     "metadata": {
      "needs_background": "light"
     },
     "output_type": "display_data"
    }
   ],
   "source": [
    "fig, ax = plt.subplots(figsize=(12,8))\n",
    "\n",
    "nf, bar_labelins_f, patches_f = ax.hist(df[df['favorite_time']=='Weekend']['cust_score'], bins= 8, color = '#1B5ABA', label = 'Weekend', alpha = .5)\n",
    "nm, bar_labelins_m, patches_m = ax.hist(df[df['favorite_time']=='Weekday']['cust_score'], bins = 8, color = '#159595', label = 'Weekday', alpha = .5)\n",
    "\n",
    "ax.set_title('Distribution of Customer Score by Favorite Time For Shopping')\n",
    "ax.set_ylabel('Frequency')\n",
    "ax.set_xlabel('Customer Score')\n",
    "\n",
    "for patches in [patches_f, patches_m]:\n",
    "    for rect in patches:\n",
    "        y_value = rect.get_height()\n",
    "        x_value = rect.get_x() + rect.get_width() / 2\n",
    "\n",
    "        space  = 5\n",
    "        va = 'bottom'\n",
    "        label = str(np.round(y_value, 3))\n",
    "\n",
    "        plt.annotate(\n",
    "            label ,\n",
    "            (x_value, y_value) ,\n",
    "            xytext = (0, space) ,\n",
    "            textcoords = 'offset points' ,\n",
    "            ha = 'center' ,\n",
    "            va=va\n",
    "        )\n",
    "\n",
    "fig.tight_layout()\n",
    "\n",
    "plt.legend()\n",
    "\n",
    "plt.show()"
   ]
  },
  {
   "cell_type": "code",
   "execution_count": 17,
   "metadata": {
    "ExecuteTime": {
     "end_time": "2021-04-12T15:30:36.201444Z",
     "start_time": "2021-04-12T15:30:36.171445Z"
    }
   },
   "outputs": [
    {
     "data": {
      "text/html": [
       "<div>\n",
       "<style scoped>\n",
       "    .dataframe tbody tr th:only-of-type {\n",
       "        vertical-align: middle;\n",
       "    }\n",
       "\n",
       "    .dataframe tbody tr th {\n",
       "        vertical-align: top;\n",
       "    }\n",
       "\n",
       "    .dataframe thead th {\n",
       "        text-align: right;\n",
       "    }\n",
       "</style>\n",
       "<table border=\"1\" class=\"dataframe\">\n",
       "  <thead>\n",
       "    <tr style=\"text-align: right;\">\n",
       "      <th></th>\n",
       "      <th>weekend</th>\n",
       "      <th>weekday</th>\n",
       "    </tr>\n",
       "  </thead>\n",
       "  <tbody>\n",
       "    <tr>\n",
       "      <th>count</th>\n",
       "      <td>151.000000</td>\n",
       "      <td>49.000000</td>\n",
       "    </tr>\n",
       "    <tr>\n",
       "      <th>mean</th>\n",
       "      <td>47.966887</td>\n",
       "      <td>43.673469</td>\n",
       "    </tr>\n",
       "    <tr>\n",
       "      <th>std</th>\n",
       "      <td>29.320622</td>\n",
       "      <td>27.947412</td>\n",
       "    </tr>\n",
       "    <tr>\n",
       "      <th>min</th>\n",
       "      <td>1.000000</td>\n",
       "      <td>1.000000</td>\n",
       "    </tr>\n",
       "    <tr>\n",
       "      <th>25%</th>\n",
       "      <td>22.000000</td>\n",
       "      <td>22.000000</td>\n",
       "    </tr>\n",
       "    <tr>\n",
       "      <th>50%</th>\n",
       "      <td>46.000000</td>\n",
       "      <td>35.000000</td>\n",
       "    </tr>\n",
       "    <tr>\n",
       "      <th>75%</th>\n",
       "      <td>70.000000</td>\n",
       "      <td>67.000000</td>\n",
       "    </tr>\n",
       "    <tr>\n",
       "      <th>max</th>\n",
       "      <td>100.000000</td>\n",
       "      <td>98.000000</td>\n",
       "    </tr>\n",
       "  </tbody>\n",
       "</table>\n",
       "</div>"
      ],
      "text/plain": [
       "          weekend    weekday\n",
       "count  151.000000  49.000000\n",
       "mean    47.966887  43.673469\n",
       "std     29.320622  27.947412\n",
       "min      1.000000   1.000000\n",
       "25%     22.000000  22.000000\n",
       "50%     46.000000  35.000000\n",
       "75%     70.000000  67.000000\n",
       "max    100.000000  98.000000"
      ]
     },
     "execution_count": 17,
     "metadata": {},
     "output_type": "execute_result"
    }
   ],
   "source": [
    "df_income_gender = pd.DataFrame([df[df['favorite_time']=='Weekend']['cust_score'],df[df['favorite_time']=='Weekday']['cust_score']]).transpose()\n",
    "df_income_gender.columns = ['weekend','weekday']\n",
    "df_income_gender.describe()"
   ]
  },
  {
   "cell_type": "markdown",
   "metadata": {},
   "source": [
    "As we can see that Weekend is more favourite than Weekday for Customers to go shopping. It is showed on both frequencies and distributions. There are 151 customers that go for shopping on Weekend, and 49 customers that go for shopping on Weekday. Customers that shop on Weekend mostly have 46 on their score, while the customers that shop on Weekday mostly have 35 on their score.\n",
    "\n",
    "It looks like Favourite Time effects the Custommer Score (Purchase Behaviour) in this case. We need to check it later, are there any differences between Favourite Time when considering Customer Score?"
   ]
  },
  {
   "cell_type": "markdown",
   "metadata": {},
   "source": [
    "Last but not least, let's see, are there any correlation between our numerical variables?"
   ]
  },
  {
   "cell_type": "code",
   "execution_count": 18,
   "metadata": {
    "ExecuteTime": {
     "end_time": "2021-04-12T15:30:36.423444Z",
     "start_time": "2021-04-12T15:30:36.204449Z"
    }
   },
   "outputs": [
    {
     "data": {
      "text/plain": [
       "<AxesSubplot:>"
      ]
     },
     "execution_count": 18,
     "metadata": {},
     "output_type": "execute_result"
    },
    {
     "data": {
      "image/png": "[encoded data removed]",
      "text/plain": [
       "<Figure size 432x288 with 2 Axes>"
      ]
     },
     "metadata": {
      "needs_background": "light"
     },
     "output_type": "display_data"
    }
   ],
   "source": [
    "sns.heatmap(df.drop('cust_id', axis=1).corr(), annot= True)"
   ]
  },
  {
   "cell_type": "markdown",
   "metadata": {},
   "source": [
    "As we can see that there are no correlation on our numerical variables."
   ]
  },
  {
   "cell_type": "markdown",
   "metadata": {},
   "source": [
    "Before we test our Hypothesis on the Favourite Time Variable, I want to check our other categorical variable, which is Hometown."
   ]
  },
  {
   "cell_type": "code",
   "execution_count": 19,
   "metadata": {
    "ExecuteTime": {
     "end_time": "2021-04-12T15:30:36.690749Z",
     "start_time": "2021-04-12T15:30:36.426444Z"
    }
   },
   "outputs": [
    {
     "data": {
      "image/png": "[encoded data removed]",
      "text/plain": [
       "<Figure size 864x576 with 1 Axes>"
      ]
     },
     "metadata": {
      "needs_background": "light"
     },
     "output_type": "display_data"
    }
   ],
   "source": [
    "fig, ax = plt.subplots(figsize=(12,8))\n",
    "\n",
    "rect = ax.bar(df['hometown'].unique(), df['hometown'].value_counts(), color ='#900c3f')\n",
    "\n",
    "ax.set_title('Distribution of Customers By Hometown')\n",
    "ax.set_ylabel('Num of Customers')\n",
    "ax.set_xlabel('Hometown')\n",
    "\n",
    "ax.bar_label(rect, padding=3)\n",
    "\n",
    "fig.tight_layout()\n",
    "\n",
    "plt.show()\n",
    "\n"
   ]
  },
  {
   "cell_type": "markdown",
   "metadata": {},
   "source": [
    "We can see that distribution of customers by their hometown is highly imbalance. Mostly our customers live in Jakarta and Bandung. It means that our customers who live in cities other than Jakarta and Bandung do not really make an impact to our Sales."
   ]
  },
  {
   "cell_type": "markdown",
   "metadata": {},
   "source": [
    "So, now I think we need to calculate the differences between Favourite Time For Shopping when considering the Customer Score.\n",
    "\n",
    "First, we prepare our data. We devide our data into 2 groups. The first one is Group of customers that do shopping on Weekend. And the second is Group of customers that do shopping on Weekday."
   ]
  },
  {
   "cell_type": "markdown",
   "metadata": {},
   "source": [
    "> *__Null Hypothesis (HO)__ -> People will be equally likely to do shopping in anytime.*\n",
    "\n",
    "> *__Alternative Hypothesis (HA)__ -> People will be more likely to do shopping on the Weekend.*"
   ]
  },
  {
   "cell_type": "code",
   "execution_count": 20,
   "metadata": {
    "ExecuteTime": {
     "end_time": "2021-04-12T15:30:36.706745Z",
     "start_time": "2021-04-12T15:30:36.692746Z"
    }
   },
   "outputs": [
    {
     "name": "stdout",
     "output_type": "stream",
     "text": [
      "sample size group 1 adalah 151\n",
      "sample size group 2 adalah 49\n"
     ]
    }
   ],
   "source": [
    "group1 = df[df['favorite_time']=='Weekend']['cust_score']\n",
    "group2 = df[df['favorite_time']=='Weekday']['cust_score']\n",
    "\n",
    "print('sample size group 1 adalah {}'.format(len(group1)))\n",
    "print('sample size group 2 adalah {}'.format(len(group2)))"
   ]
  },
  {
   "cell_type": "code",
   "execution_count": 21,
   "metadata": {
    "ExecuteTime": {
     "end_time": "2021-04-12T15:30:36.721747Z",
     "start_time": "2021-04-12T15:30:36.709745Z"
    }
   },
   "outputs": [
    {
     "name": "stdout",
     "output_type": "stream",
     "text": [
      "The groups are NOT significantly difference! t(198) = 0.9, p=0.368852\n"
     ]
    }
   ],
   "source": [
    "t, p = stats.ttest_ind(group1, group2)\n",
    "\n",
    "sigtxt = ('',' NOT')\n",
    "print('The groups are{} significantly difference! t({}) = {}, p={}'.format(sigtxt[int(p>.05)],\n",
    "                                                                         (len(group1)+len(group2))-2,\n",
    "                                                                         np.round(t,2),\n",
    "                                                                         np.round(p,6)))"
   ]
  },
  {
   "cell_type": "markdown",
   "metadata": {},
   "source": [
    "From the t-test, we could conclude that we fail to reject the *Null Hypothesis*, that mean customers's purchase behavior is equal across all days. Neither Weekend nor Weekday do not constitute a difference in customer's purchase behavior."
   ]
  },
  {
   "cell_type": "markdown",
   "metadata": {},
   "source": [
    "After we did some exploration in our data, we know that our categorical variables do not constitute any differences in our customer's purchase behavior"
   ]
  },
  {
   "cell_type": "markdown",
   "metadata": {},
   "source": [
    "# Modeling"
   ]
  },
  {
   "cell_type": "code",
   "execution_count": 22,
   "metadata": {
    "ExecuteTime": {
     "end_time": "2021-04-12T15:30:37.036440Z",
     "start_time": "2021-04-12T15:30:36.726761Z"
    }
   },
   "outputs": [],
   "source": [
    "from sklearn.cluster import KMeans"
   ]
  },
  {
   "cell_type": "markdown",
   "metadata": {},
   "source": [
    "### Create Function for ordering the culster numbers"
   ]
  },
  {
   "cell_type": "code",
   "execution_count": 23,
   "metadata": {
    "ExecuteTime": {
     "end_time": "2021-04-12T15:30:37.052448Z",
     "start_time": "2021-04-12T15:30:37.045436Z"
    }
   },
   "outputs": [],
   "source": [
    "df_result = df[['cust_id','age','annual_income','cust_score']]"
   ]
  },
  {
   "cell_type": "code",
   "execution_count": 24,
   "metadata": {
    "ExecuteTime": {
     "end_time": "2021-04-12T15:30:37.068435Z",
     "start_time": "2021-04-12T15:30:37.059440Z"
    }
   },
   "outputs": [],
   "source": [
    "def order_cluster(cluster_field_name, target_field_name,df,asc):\n",
    "    new_cluster_field_name = 'new_' + cluster_field_name\n",
    "    df_new = df.groupby(cluster_field_name)[target_field_name].mean().reset_index()\n",
    "    df_new = df_new.sort_values(by=target_field_name,ascending=asc).reset_index(drop=True)\n",
    "    df_new['index'] = df_new.index\n",
    "    df_final = pd.merge(df,df_new[[cluster_field_name,'index']], on=cluster_field_name)\n",
    "    df_final = df_final.drop([cluster_field_name],axis=1)\n",
    "    df_final = df_final.rename(columns={\"index\":cluster_field_name})\n",
    "    return df_final"
   ]
  },
  {
   "cell_type": "markdown",
   "metadata": {},
   "source": [
    "## Clustering By Age"
   ]
  },
  {
   "cell_type": "code",
   "execution_count": 25,
   "metadata": {
    "ExecuteTime": {
     "end_time": "2021-04-12T15:30:37.589300Z",
     "start_time": "2021-04-12T15:30:37.074446Z"
    }
   },
   "outputs": [
    {
     "data": {
      "image/png": "[encoded data removed]",
      "text/plain": [
       "<Figure size 864x576 with 1 Axes>"
      ]
     },
     "metadata": {
      "needs_background": "light"
     },
     "output_type": "display_data"
    }
   ],
   "source": [
    "df_age = df_result[['age']]\n",
    "\n",
    "evaluation = {}\n",
    "\n",
    "for n in range(1,11):\n",
    "    model = KMeans(n_clusters = n, \n",
    "                   init = 'k-means++',\n",
    "                   n_init = 10 ,\n",
    "                   max_iter = 300 ,\n",
    "                   random_state = 100\n",
    "                  )\n",
    "    model.fit(df_age)\n",
    "    evaluation[n] = model.inertia_\n",
    "\n",
    "# evaluating the model\n",
    "\n",
    "plt.figure(1, figsize=(12,8))\n",
    "plt.plot(list(evaluation.keys()), list(evaluation.values()), 'o')\n",
    "plt.plot(list(evaluation.keys()), list(evaluation.values()), '-', alpha = 0.5)\n",
    "plt.xlabel('Number of Clusters')\n",
    "plt.ylabel('Inertia')\n",
    "plt.show()"
   ]
  },
  {
   "cell_type": "code",
   "execution_count": 26,
   "metadata": {
    "ExecuteTime": {
     "end_time": "2021-04-12T15:30:37.637258Z",
     "start_time": "2021-04-12T15:30:37.591231Z"
    }
   },
   "outputs": [],
   "source": [
    "model = KMeans(n_clusters = 3, \n",
    "               init = 'k-means++',\n",
    "               n_init = 10 ,\n",
    "               max_iter = 300 ,\n",
    "               random_state = 100\n",
    "              )\n",
    "model.fit(df_age)\n",
    "df_result['age_cluster'] = model.predict(df_result[['age']])"
   ]
  },
  {
   "cell_type": "code",
   "execution_count": 27,
   "metadata": {
    "ExecuteTime": {
     "end_time": "2021-04-12T15:30:37.653256Z",
     "start_time": "2021-04-12T15:30:37.639254Z"
    }
   },
   "outputs": [],
   "source": [
    "df_result = order_cluster('age_cluster','age',df_result, False)"
   ]
  },
  {
   "cell_type": "code",
   "execution_count": 28,
   "metadata": {
    "ExecuteTime": {
     "end_time": "2021-04-12T15:30:37.717253Z",
     "start_time": "2021-04-12T15:30:37.655255Z"
    }
   },
   "outputs": [
    {
     "data": {
      "text/html": [
       "<div>\n",
       "<style scoped>\n",
       "    .dataframe tbody tr th:only-of-type {\n",
       "        vertical-align: middle;\n",
       "    }\n",
       "\n",
       "    .dataframe tbody tr th {\n",
       "        vertical-align: top;\n",
       "    }\n",
       "\n",
       "    .dataframe thead th {\n",
       "        text-align: right;\n",
       "    }\n",
       "</style>\n",
       "<table border=\"1\" class=\"dataframe\">\n",
       "  <thead>\n",
       "    <tr style=\"text-align: right;\">\n",
       "      <th></th>\n",
       "      <th>count</th>\n",
       "      <th>mean</th>\n",
       "      <th>std</th>\n",
       "      <th>min</th>\n",
       "      <th>25%</th>\n",
       "      <th>50%</th>\n",
       "      <th>75%</th>\n",
       "      <th>max</th>\n",
       "    </tr>\n",
       "    <tr>\n",
       "      <th>age_cluster</th>\n",
       "      <th></th>\n",
       "      <th></th>\n",
       "      <th></th>\n",
       "      <th></th>\n",
       "      <th></th>\n",
       "      <th></th>\n",
       "      <th></th>\n",
       "      <th></th>\n",
       "    </tr>\n",
       "  </thead>\n",
       "  <tbody>\n",
       "    <tr>\n",
       "      <th>0</th>\n",
       "      <td>35.0</td>\n",
       "      <td>62.342857</td>\n",
       "      <td>5.460785</td>\n",
       "      <td>54.0</td>\n",
       "      <td>58.5</td>\n",
       "      <td>63.0</td>\n",
       "      <td>67.0</td>\n",
       "      <td>75.0</td>\n",
       "    </tr>\n",
       "    <tr>\n",
       "      <th>1</th>\n",
       "      <td>64.0</td>\n",
       "      <td>44.750000</td>\n",
       "      <td>4.710677</td>\n",
       "      <td>37.0</td>\n",
       "      <td>40.0</td>\n",
       "      <td>45.0</td>\n",
       "      <td>49.0</td>\n",
       "      <td>53.0</td>\n",
       "    </tr>\n",
       "    <tr>\n",
       "      <th>2</th>\n",
       "      <td>101.0</td>\n",
       "      <td>28.089109</td>\n",
       "      <td>5.632227</td>\n",
       "      <td>18.0</td>\n",
       "      <td>23.0</td>\n",
       "      <td>30.0</td>\n",
       "      <td>32.0</td>\n",
       "      <td>36.0</td>\n",
       "    </tr>\n",
       "  </tbody>\n",
       "</table>\n",
       "</div>"
      ],
      "text/plain": [
       "             count       mean       std   min   25%   50%   75%   max\n",
       "age_cluster                                                          \n",
       "0             35.0  62.342857  5.460785  54.0  58.5  63.0  67.0  75.0\n",
       "1             64.0  44.750000  4.710677  37.0  40.0  45.0  49.0  53.0\n",
       "2            101.0  28.089109  5.632227  18.0  23.0  30.0  32.0  36.0"
      ]
     },
     "execution_count": 28,
     "metadata": {},
     "output_type": "execute_result"
    }
   ],
   "source": [
    "df_result.groupby('age_cluster').describe()['age']"
   ]
  },
  {
   "cell_type": "markdown",
   "metadata": {},
   "source": [
    "## Clustering By Customer Score"
   ]
  },
  {
   "cell_type": "code",
   "execution_count": 29,
   "metadata": {
    "ExecuteTime": {
     "end_time": "2021-04-12T15:30:38.188259Z",
     "start_time": "2021-04-12T15:30:37.719255Z"
    }
   },
   "outputs": [
    {
     "data": {
      "image/png": "[encoded data removed]",
      "text/plain": [
       "<Figure size 864x576 with 1 Axes>"
      ]
     },
     "metadata": {
      "needs_background": "light"
     },
     "output_type": "display_data"
    }
   ],
   "source": [
    "df_cust_score = df_result[['cust_score']]\n",
    "\n",
    "evaluation = {}\n",
    "\n",
    "for n in range(1,11):\n",
    "    model = KMeans(n_clusters = n, \n",
    "                   init = 'k-means++',\n",
    "                   n_init = 10 ,\n",
    "                   max_iter = 300 ,\n",
    "                   random_state = 100\n",
    "                  )\n",
    "    model.fit(df_cust_score)\n",
    "    evaluation[n] = model.inertia_\n",
    "\n",
    "# evaluating the model\n",
    "\n",
    "plt.figure(1, figsize=(12,8))\n",
    "plt.plot(list(evaluation.keys()), list(evaluation.values()), 'o')\n",
    "plt.plot(list(evaluation.keys()), list(evaluation.values()), '-', alpha = 0.5)\n",
    "plt.xlabel('Number of Clusters')\n",
    "plt.ylabel('Inertia')\n",
    "plt.show()"
   ]
  },
  {
   "cell_type": "code",
   "execution_count": 30,
   "metadata": {
    "ExecuteTime": {
     "end_time": "2021-04-12T15:30:38.251439Z",
     "start_time": "2021-04-12T15:30:38.191253Z"
    }
   },
   "outputs": [],
   "source": [
    "model = KMeans(n_clusters = 3, \n",
    "               init = 'k-means++',\n",
    "               n_init = 10 ,\n",
    "               max_iter = 300 ,\n",
    "               random_state = 100\n",
    "              )\n",
    "model.fit(df_cust_score)\n",
    "df_result['score_cluster'] = model.predict(df_result[['cust_score']])"
   ]
  },
  {
   "cell_type": "code",
   "execution_count": 31,
   "metadata": {
    "ExecuteTime": {
     "end_time": "2021-04-12T15:30:38.283446Z",
     "start_time": "2021-04-12T15:30:38.254440Z"
    }
   },
   "outputs": [],
   "source": [
    "df_result = order_cluster('score_cluster','cust_score',df_result, True)"
   ]
  },
  {
   "cell_type": "code",
   "execution_count": 32,
   "metadata": {
    "ExecuteTime": {
     "end_time": "2021-04-12T15:30:38.393449Z",
     "start_time": "2021-04-12T15:30:38.287442Z"
    }
   },
   "outputs": [
    {
     "data": {
      "text/html": [
       "<div>\n",
       "<style scoped>\n",
       "    .dataframe tbody tr th:only-of-type {\n",
       "        vertical-align: middle;\n",
       "    }\n",
       "\n",
       "    .dataframe tbody tr th {\n",
       "        vertical-align: top;\n",
       "    }\n",
       "\n",
       "    .dataframe thead th {\n",
       "        text-align: right;\n",
       "    }\n",
       "</style>\n",
       "<table border=\"1\" class=\"dataframe\">\n",
       "  <thead>\n",
       "    <tr style=\"text-align: right;\">\n",
       "      <th></th>\n",
       "      <th>count</th>\n",
       "      <th>mean</th>\n",
       "      <th>std</th>\n",
       "      <th>min</th>\n",
       "      <th>25%</th>\n",
       "      <th>50%</th>\n",
       "      <th>75%</th>\n",
       "      <th>max</th>\n",
       "    </tr>\n",
       "    <tr>\n",
       "      <th>score_cluster</th>\n",
       "      <th></th>\n",
       "      <th></th>\n",
       "      <th></th>\n",
       "      <th></th>\n",
       "      <th></th>\n",
       "      <th></th>\n",
       "      <th></th>\n",
       "      <th></th>\n",
       "    </tr>\n",
       "  </thead>\n",
       "  <tbody>\n",
       "    <tr>\n",
       "      <th>0</th>\n",
       "      <td>62.0</td>\n",
       "      <td>12.790323</td>\n",
       "      <td>8.770549</td>\n",
       "      <td>1.0</td>\n",
       "      <td>5.0</td>\n",
       "      <td>13.5</td>\n",
       "      <td>21.0</td>\n",
       "      <td>29.0</td>\n",
       "    </tr>\n",
       "    <tr>\n",
       "      <th>1</th>\n",
       "      <td>83.0</td>\n",
       "      <td>47.614458</td>\n",
       "      <td>9.393604</td>\n",
       "      <td>31.0</td>\n",
       "      <td>41.5</td>\n",
       "      <td>46.0</td>\n",
       "      <td>56.0</td>\n",
       "      <td>65.0</td>\n",
       "    </tr>\n",
       "    <tr>\n",
       "      <th>2</th>\n",
       "      <td>55.0</td>\n",
       "      <td>84.327273</td>\n",
       "      <td>10.521679</td>\n",
       "      <td>67.0</td>\n",
       "      <td>75.0</td>\n",
       "      <td>86.0</td>\n",
       "      <td>92.5</td>\n",
       "      <td>100.0</td>\n",
       "    </tr>\n",
       "  </tbody>\n",
       "</table>\n",
       "</div>"
      ],
      "text/plain": [
       "               count       mean        std   min   25%   50%   75%    max\n",
       "score_cluster                                                            \n",
       "0               62.0  12.790323   8.770549   1.0   5.0  13.5  21.0   29.0\n",
       "1               83.0  47.614458   9.393604  31.0  41.5  46.0  56.0   65.0\n",
       "2               55.0  84.327273  10.521679  67.0  75.0  86.0  92.5  100.0"
      ]
     },
     "execution_count": 32,
     "metadata": {},
     "output_type": "execute_result"
    }
   ],
   "source": [
    "df_result.groupby('score_cluster').describe()['cust_score']"
   ]
  },
  {
   "cell_type": "markdown",
   "metadata": {},
   "source": [
    "## Clustering By Annual Income"
   ]
  },
  {
   "cell_type": "code",
   "execution_count": 33,
   "metadata": {
    "ExecuteTime": {
     "end_time": "2021-04-12T15:30:38.902223Z",
     "start_time": "2021-04-12T15:30:38.398444Z"
    }
   },
   "outputs": [
    {
     "data": {
      "image/png": "[encoded data removed]",
      "text/plain": [
       "<Figure size 864x576 with 1 Axes>"
      ]
     },
     "metadata": {
      "needs_background": "light"
     },
     "output_type": "display_data"
    }
   ],
   "source": [
    "df_annual_income = df_result[['annual_income']]\n",
    "\n",
    "evaluation = {}\n",
    "\n",
    "for n in range(1,11):\n",
    "    model = KMeans(n_clusters = n, \n",
    "                   init = 'k-means++',\n",
    "                   n_init = 10 ,\n",
    "                   max_iter = 300 ,\n",
    "                   random_state = 100\n",
    "                  )\n",
    "    model.fit(df_annual_income)\n",
    "    evaluation[n] = model.inertia_\n",
    "\n",
    "# evaluating the model\n",
    "\n",
    "plt.figure(1, figsize=(12,8))\n",
    "plt.plot(list(evaluation.keys()), list(evaluation.values()), 'o')\n",
    "plt.plot(list(evaluation.keys()), list(evaluation.values()), '-', alpha = 0.5)\n",
    "plt.xlabel('Number of Clusters')\n",
    "plt.ylabel('Inertia')\n",
    "plt.show()"
   ]
  },
  {
   "cell_type": "code",
   "execution_count": 34,
   "metadata": {
    "ExecuteTime": {
     "end_time": "2021-04-12T15:30:38.950256Z",
     "start_time": "2021-04-12T15:30:38.904194Z"
    }
   },
   "outputs": [],
   "source": [
    "model = KMeans(n_clusters = 3, \n",
    "               init = 'k-means++',\n",
    "               n_init = 10 ,\n",
    "               max_iter = 300 ,\n",
    "               random_state = 100\n",
    "              )\n",
    "model.fit(df_annual_income)\n",
    "df_result['income_cluster'] = model.predict(df_result[['annual_income']])"
   ]
  },
  {
   "cell_type": "code",
   "execution_count": 35,
   "metadata": {
    "ExecuteTime": {
     "end_time": "2021-04-12T15:30:38.982281Z",
     "start_time": "2021-04-12T15:30:38.953277Z"
    }
   },
   "outputs": [],
   "source": [
    "df_result = order_cluster('income_cluster','annual_income',df_result, True)"
   ]
  },
  {
   "cell_type": "code",
   "execution_count": 36,
   "metadata": {
    "ExecuteTime": {
     "end_time": "2021-04-12T15:30:39.078278Z",
     "start_time": "2021-04-12T15:30:38.985278Z"
    }
   },
   "outputs": [
    {
     "data": {
      "text/html": [
       "<div>\n",
       "<style scoped>\n",
       "    .dataframe tbody tr th:only-of-type {\n",
       "        vertical-align: middle;\n",
       "    }\n",
       "\n",
       "    .dataframe tbody tr th {\n",
       "        vertical-align: top;\n",
       "    }\n",
       "\n",
       "    .dataframe thead th {\n",
       "        text-align: right;\n",
       "    }\n",
       "</style>\n",
       "<table border=\"1\" class=\"dataframe\">\n",
       "  <thead>\n",
       "    <tr style=\"text-align: right;\">\n",
       "      <th></th>\n",
       "      <th>count</th>\n",
       "      <th>mean</th>\n",
       "      <th>std</th>\n",
       "      <th>min</th>\n",
       "      <th>25%</th>\n",
       "      <th>50%</th>\n",
       "      <th>75%</th>\n",
       "      <th>max</th>\n",
       "    </tr>\n",
       "    <tr>\n",
       "      <th>income_cluster</th>\n",
       "      <th></th>\n",
       "      <th></th>\n",
       "      <th></th>\n",
       "      <th></th>\n",
       "      <th></th>\n",
       "      <th></th>\n",
       "      <th></th>\n",
       "      <th></th>\n",
       "    </tr>\n",
       "  </thead>\n",
       "  <tbody>\n",
       "    <tr>\n",
       "      <th>0</th>\n",
       "      <td>83.0</td>\n",
       "      <td>23202.771084</td>\n",
       "      <td>7930.261478</td>\n",
       "      <td>10000.0</td>\n",
       "      <td>18250.0</td>\n",
       "      <td>23450.0</td>\n",
       "      <td>30000.0</td>\n",
       "      <td>35000.0</td>\n",
       "    </tr>\n",
       "    <tr>\n",
       "      <th>1</th>\n",
       "      <td>77.0</td>\n",
       "      <td>50518.701299</td>\n",
       "      <td>6712.764422</td>\n",
       "      <td>38900.0</td>\n",
       "      <td>45000.0</td>\n",
       "      <td>50000.0</td>\n",
       "      <td>56000.0</td>\n",
       "      <td>63000.0</td>\n",
       "    </tr>\n",
       "    <tr>\n",
       "      <th>2</th>\n",
       "      <td>40.0</td>\n",
       "      <td>75776.250000</td>\n",
       "      <td>9691.405044</td>\n",
       "      <td>65000.0</td>\n",
       "      <td>67575.0</td>\n",
       "      <td>71000.0</td>\n",
       "      <td>89000.0</td>\n",
       "      <td>90000.0</td>\n",
       "    </tr>\n",
       "  </tbody>\n",
       "</table>\n",
       "</div>"
      ],
      "text/plain": [
       "                count          mean          std      min      25%      50%  \\\n",
       "income_cluster                                                                \n",
       "0                83.0  23202.771084  7930.261478  10000.0  18250.0  23450.0   \n",
       "1                77.0  50518.701299  6712.764422  38900.0  45000.0  50000.0   \n",
       "2                40.0  75776.250000  9691.405044  65000.0  67575.0  71000.0   \n",
       "\n",
       "                    75%      max  \n",
       "income_cluster                    \n",
       "0               30000.0  35000.0  \n",
       "1               56000.0  63000.0  \n",
       "2               89000.0  90000.0  "
      ]
     },
     "execution_count": 36,
     "metadata": {},
     "output_type": "execute_result"
    }
   ],
   "source": [
    "df_result.groupby('income_cluster').describe()['annual_income']"
   ]
  },
  {
   "cell_type": "code",
   "execution_count": null,
   "metadata": {},
   "outputs": [],
   "source": []
  },
  {
   "cell_type": "code",
   "execution_count": 37,
   "metadata": {
    "ExecuteTime": {
     "end_time": "2021-04-12T15:30:39.094275Z",
     "start_time": "2021-04-12T15:30:39.081315Z"
    }
   },
   "outputs": [
    {
     "data": {
      "text/html": [
       "<div>\n",
       "<style scoped>\n",
       "    .dataframe tbody tr th:only-of-type {\n",
       "        vertical-align: middle;\n",
       "    }\n",
       "\n",
       "    .dataframe tbody tr th {\n",
       "        vertical-align: top;\n",
       "    }\n",
       "\n",
       "    .dataframe thead th {\n",
       "        text-align: right;\n",
       "    }\n",
       "</style>\n",
       "<table border=\"1\" class=\"dataframe\">\n",
       "  <thead>\n",
       "    <tr style=\"text-align: right;\">\n",
       "      <th></th>\n",
       "      <th>cust_id</th>\n",
       "      <th>age</th>\n",
       "      <th>annual_income</th>\n",
       "      <th>cust_score</th>\n",
       "      <th>age_cluster</th>\n",
       "      <th>score_cluster</th>\n",
       "      <th>income_cluster</th>\n",
       "    </tr>\n",
       "  </thead>\n",
       "  <tbody>\n",
       "    <tr>\n",
       "      <th>0</th>\n",
       "      <td>1</td>\n",
       "      <td>20</td>\n",
       "      <td>20000</td>\n",
       "      <td>1</td>\n",
       "      <td>2</td>\n",
       "      <td>0</td>\n",
       "      <td>0</td>\n",
       "    </tr>\n",
       "    <tr>\n",
       "      <th>1</th>\n",
       "      <td>3</td>\n",
       "      <td>18</td>\n",
       "      <td>12350</td>\n",
       "      <td>1</td>\n",
       "      <td>2</td>\n",
       "      <td>0</td>\n",
       "      <td>0</td>\n",
       "    </tr>\n",
       "    <tr>\n",
       "      <th>2</th>\n",
       "      <td>5</td>\n",
       "      <td>31</td>\n",
       "      <td>18000</td>\n",
       "      <td>10</td>\n",
       "      <td>2</td>\n",
       "      <td>0</td>\n",
       "      <td>0</td>\n",
       "    </tr>\n",
       "    <tr>\n",
       "      <th>3</th>\n",
       "      <td>7</td>\n",
       "      <td>35</td>\n",
       "      <td>20000</td>\n",
       "      <td>6</td>\n",
       "      <td>2</td>\n",
       "      <td>0</td>\n",
       "      <td>0</td>\n",
       "    </tr>\n",
       "    <tr>\n",
       "      <th>4</th>\n",
       "      <td>10</td>\n",
       "      <td>34</td>\n",
       "      <td>18500</td>\n",
       "      <td>10</td>\n",
       "      <td>2</td>\n",
       "      <td>0</td>\n",
       "      <td>0</td>\n",
       "    </tr>\n",
       "  </tbody>\n",
       "</table>\n",
       "</div>"
      ],
      "text/plain": [
       "   cust_id  age  annual_income  cust_score  age_cluster  score_cluster  \\\n",
       "0        1   20          20000           1            2              0   \n",
       "1        3   18          12350           1            2              0   \n",
       "2        5   31          18000          10            2              0   \n",
       "3        7   35          20000           6            2              0   \n",
       "4       10   34          18500          10            2              0   \n",
       "\n",
       "   income_cluster  \n",
       "0               0  \n",
       "1               0  \n",
       "2               0  \n",
       "3               0  \n",
       "4               0  "
      ]
     },
     "execution_count": 37,
     "metadata": {},
     "output_type": "execute_result"
    }
   ],
   "source": [
    "df_result.head()"
   ]
  },
  {
   "cell_type": "code",
   "execution_count": 38,
   "metadata": {
    "ExecuteTime": {
     "end_time": "2021-04-12T15:30:39.125277Z",
     "start_time": "2021-04-12T15:30:39.097275Z"
    }
   },
   "outputs": [
    {
     "data": {
      "text/html": [
       "<div>\n",
       "<style scoped>\n",
       "    .dataframe tbody tr th:only-of-type {\n",
       "        vertical-align: middle;\n",
       "    }\n",
       "\n",
       "    .dataframe tbody tr th {\n",
       "        vertical-align: top;\n",
       "    }\n",
       "\n",
       "    .dataframe thead th {\n",
       "        text-align: right;\n",
       "    }\n",
       "</style>\n",
       "<table border=\"1\" class=\"dataframe\">\n",
       "  <thead>\n",
       "    <tr style=\"text-align: right;\">\n",
       "      <th></th>\n",
       "      <th>cust_id</th>\n",
       "      <th>age</th>\n",
       "      <th>annual_income</th>\n",
       "      <th>cust_score</th>\n",
       "      <th>age_cluster</th>\n",
       "      <th>score_cluster</th>\n",
       "      <th>income_cluster</th>\n",
       "      <th>overall_score</th>\n",
       "    </tr>\n",
       "  </thead>\n",
       "  <tbody>\n",
       "    <tr>\n",
       "      <th>0</th>\n",
       "      <td>1</td>\n",
       "      <td>20</td>\n",
       "      <td>20000</td>\n",
       "      <td>1</td>\n",
       "      <td>2</td>\n",
       "      <td>0</td>\n",
       "      <td>0</td>\n",
       "      <td>2</td>\n",
       "    </tr>\n",
       "    <tr>\n",
       "      <th>1</th>\n",
       "      <td>3</td>\n",
       "      <td>18</td>\n",
       "      <td>12350</td>\n",
       "      <td>1</td>\n",
       "      <td>2</td>\n",
       "      <td>0</td>\n",
       "      <td>0</td>\n",
       "      <td>2</td>\n",
       "    </tr>\n",
       "    <tr>\n",
       "      <th>2</th>\n",
       "      <td>5</td>\n",
       "      <td>31</td>\n",
       "      <td>18000</td>\n",
       "      <td>10</td>\n",
       "      <td>2</td>\n",
       "      <td>0</td>\n",
       "      <td>0</td>\n",
       "      <td>2</td>\n",
       "    </tr>\n",
       "    <tr>\n",
       "      <th>3</th>\n",
       "      <td>7</td>\n",
       "      <td>35</td>\n",
       "      <td>20000</td>\n",
       "      <td>6</td>\n",
       "      <td>2</td>\n",
       "      <td>0</td>\n",
       "      <td>0</td>\n",
       "      <td>2</td>\n",
       "    </tr>\n",
       "    <tr>\n",
       "      <th>4</th>\n",
       "      <td>10</td>\n",
       "      <td>34</td>\n",
       "      <td>18500</td>\n",
       "      <td>10</td>\n",
       "      <td>2</td>\n",
       "      <td>0</td>\n",
       "      <td>0</td>\n",
       "      <td>2</td>\n",
       "    </tr>\n",
       "  </tbody>\n",
       "</table>\n",
       "</div>"
      ],
      "text/plain": [
       "   cust_id  age  annual_income  cust_score  age_cluster  score_cluster  \\\n",
       "0        1   20          20000           1            2              0   \n",
       "1        3   18          12350           1            2              0   \n",
       "2        5   31          18000          10            2              0   \n",
       "3        7   35          20000           6            2              0   \n",
       "4       10   34          18500          10            2              0   \n",
       "\n",
       "   income_cluster  overall_score  \n",
       "0               0              2  \n",
       "1               0              2  \n",
       "2               0              2  \n",
       "3               0              2  \n",
       "4               0              2  "
      ]
     },
     "execution_count": 38,
     "metadata": {},
     "output_type": "execute_result"
    }
   ],
   "source": [
    "df_result['overall_score'] = df_result['age_cluster'] + df_result['score_cluster'] + df_result['income_cluster']\n",
    "df_result.head()"
   ]
  },
  {
   "cell_type": "code",
   "execution_count": 39,
   "metadata": {
    "ExecuteTime": {
     "end_time": "2021-04-12T15:30:39.141276Z",
     "start_time": "2021-04-12T15:30:39.127277Z"
    }
   },
   "outputs": [
    {
     "data": {
      "text/html": [
       "<div>\n",
       "<style scoped>\n",
       "    .dataframe tbody tr th:only-of-type {\n",
       "        vertical-align: middle;\n",
       "    }\n",
       "\n",
       "    .dataframe tbody tr th {\n",
       "        vertical-align: top;\n",
       "    }\n",
       "\n",
       "    .dataframe thead th {\n",
       "        text-align: right;\n",
       "    }\n",
       "</style>\n",
       "<table border=\"1\" class=\"dataframe\">\n",
       "  <thead>\n",
       "    <tr style=\"text-align: right;\">\n",
       "      <th></th>\n",
       "      <th>age</th>\n",
       "      <th>cust_score</th>\n",
       "      <th>annual_income</th>\n",
       "    </tr>\n",
       "    <tr>\n",
       "      <th>overall_score</th>\n",
       "      <th></th>\n",
       "      <th></th>\n",
       "      <th></th>\n",
       "    </tr>\n",
       "  </thead>\n",
       "  <tbody>\n",
       "    <tr>\n",
       "      <th>0</th>\n",
       "      <td>61.500000</td>\n",
       "      <td>16.000000</td>\n",
       "      <td>19087.500000</td>\n",
       "    </tr>\n",
       "    <tr>\n",
       "      <th>1</th>\n",
       "      <td>54.590909</td>\n",
       "      <td>24.590909</td>\n",
       "      <td>28590.909091</td>\n",
       "    </tr>\n",
       "    <tr>\n",
       "      <th>2</th>\n",
       "      <td>43.340909</td>\n",
       "      <td>28.931818</td>\n",
       "      <td>31222.500000</td>\n",
       "    </tr>\n",
       "    <tr>\n",
       "      <th>3</th>\n",
       "      <td>42.307692</td>\n",
       "      <td>47.134615</td>\n",
       "      <td>47310.192308</td>\n",
       "    </tr>\n",
       "    <tr>\n",
       "      <th>4</th>\n",
       "      <td>28.764706</td>\n",
       "      <td>56.529412</td>\n",
       "      <td>49897.058824</td>\n",
       "    </tr>\n",
       "    <tr>\n",
       "      <th>5</th>\n",
       "      <td>32.125000</td>\n",
       "      <td>79.250000</td>\n",
       "      <td>57043.750000</td>\n",
       "    </tr>\n",
       "    <tr>\n",
       "      <th>6</th>\n",
       "      <td>31.636364</td>\n",
       "      <td>82.090909</td>\n",
       "      <td>77281.818182</td>\n",
       "    </tr>\n",
       "  </tbody>\n",
       "</table>\n",
       "</div>"
      ],
      "text/plain": [
       "                     age  cust_score  annual_income\n",
       "overall_score                                      \n",
       "0              61.500000   16.000000   19087.500000\n",
       "1              54.590909   24.590909   28590.909091\n",
       "2              43.340909   28.931818   31222.500000\n",
       "3              42.307692   47.134615   47310.192308\n",
       "4              28.764706   56.529412   49897.058824\n",
       "5              32.125000   79.250000   57043.750000\n",
       "6              31.636364   82.090909   77281.818182"
      ]
     },
     "execution_count": 39,
     "metadata": {},
     "output_type": "execute_result"
    }
   ],
   "source": [
    "df_result.groupby('overall_score')['age','cust_score','annual_income'].mean()"
   ]
  },
  {
   "cell_type": "code",
   "execution_count": 40,
   "metadata": {
    "ExecuteTime": {
     "end_time": "2021-04-12T15:30:39.156278Z",
     "start_time": "2021-04-12T15:30:39.143278Z"
    }
   },
   "outputs": [
    {
     "data": {
      "text/plain": [
       "0     4\n",
       "1    22\n",
       "2    44\n",
       "3    52\n",
       "4    51\n",
       "5    16\n",
       "6    11\n",
       "Name: overall_score, dtype: int64"
      ]
     },
     "execution_count": 40,
     "metadata": {},
     "output_type": "execute_result"
    }
   ],
   "source": [
    "df_result['overall_score'].value_counts().sort_index()"
   ]
  },
  {
   "cell_type": "markdown",
   "metadata": {},
   "source": [
    "- **High Value : 5 - 6**\n",
    "- **Mid Value  : 3 - 4**\n",
    "- **Low Value  : 0 - 2**"
   ]
  },
  {
   "cell_type": "code",
   "execution_count": null,
   "metadata": {},
   "outputs": [],
   "source": []
  }
 ],
 "metadata": {
  "kernelspec": {
   "display_name": "Python 3",
   "language": "python",
   "name": "python3"
  },
  "language_info": {
   "codemirror_mode": {
    "name": "ipython",
    "version": 3
   },
   "file_extension": ".py",
   "mimetype": "text/x-python",
   "name": "python",
   "nbconvert_exporter": "python",
   "pygments_lexer": "ipython3",
   "version": "3.7.6"
  },
  "toc": {
   "base_numbering": 1,
   "nav_menu": {},
   "number_sections": true,
   "sideBar": true,
   "skip_h1_title": false,
   "title_cell": "Table of Contents",
   "title_sidebar": "Contents",
   "toc_cell": false,
   "toc_position": {},
   "toc_section_display": true,
   "toc_window_display": false
  },
  "varInspector": {
   "cols": {
    "lenName": 16,
    "lenType": 16,
    "lenVar": 40
   },
   "kernels_config": {
    "python": {
     "delete_cmd_postfix": "",
     "delete_cmd_prefix": "del ",
     "library": "var_list.py",
     "varRefreshCmd": "print(var_dic_list())"
    },
    "r": {
     "delete_cmd_postfix": ") ",
     "delete_cmd_prefix": "rm(",
     "library": "var_list.r",
     "varRefreshCmd": "cat(var_dic_list()) "
    }
   },
   "types_to_exclude": [
    "module",
    "function",
    "builtin_function_or_method",
    "instance",
    "_Feature"
   ],
   "window_display": false
  }
 },
 "nbformat": 4,
 "nbformat_minor": 4
}
